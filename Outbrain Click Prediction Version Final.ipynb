{
 "cells": [
  {
   "cell_type": "markdown",
   "metadata": {},
   "source": [
    "# Outbrain Click Prediction\n",
    "Link: https://www.kaggle.com/c/outbrain-click-prediction\n",
    "\n",
    "# Team Name:USCGreenHands"
   ]
  },
  {
   "cell_type": "markdown",
   "metadata": {},
   "source": [
    "## Members:  \n",
    "#### Xinjie Sun 5562210941\n",
    "#### Yiqun Gan 9603439162\n",
    "#### Zelong Chen 3728351730"
   ]
  },
  {
   "cell_type": "markdown",
   "metadata": {},
   "source": [
    "### ISE 529 Section:Friday"
   ]
  },
  {
   "attachments": {
    "0.59719.PNG": {
     "image/png": "[encoded data removed]"
    }
   },
   "cell_type": "markdown",
   "metadata": {},
   "source": [
    "### Score and Ranking:\n",
    "![0.59719.PNG](attachment:0.59719.PNG)"
   ]
  },
  {
   "cell_type": "markdown",
   "metadata": {},
   "source": [
    "## Data Selections\n",
    "- Data files that we are using for analysis and prediction\n",
    "  - clicks_train.csv (Using the first 5,000,000 for data analysis then using the rest for model training and prediction)\n",
    "    - display_id\n",
    "    - ad_id\n",
    "    - clicked (1 if clicked, 0 otherwise)\n",
    "  - clicks_test.csv\n",
    "    - display_id\n",
    "    - ad_id\n",
    "  - events.csv\n",
    "    - display_id\n",
    "    - uuid\n",
    "    - document_id\n",
    "    - timestamp\n",
    "    - platform\n",
    "    - geo_location\n",
    "  - promoted_content.csv\n",
    "    - ad_id\n",
    "    - document_id\n",
    "    - campaign_id\n",
    "    - advertiser_id"
   ]
  },
  {
   "cell_type": "markdown",
   "metadata": {},
   "source": [
    "### Libraries"
   ]
  },
  {
   "cell_type": "code",
   "execution_count": 1,
   "metadata": {},
   "outputs": [],
   "source": [
    "# data analysis and wrangling\n",
    "import pandas as pd\n",
    "import numpy as np\n",
    "import random as rnd\n",
    "import os\n",
    "import gc\n",
    "import seaborn as sns\n",
    "%matplotlib inline\n",
    "# visualization\n",
    "import matplotlib.pyplot as plt\n",
    "\n",
    "# machine learning\n",
    "from sklearn.linear_model import LogisticRegression\n",
    "from sklearn.naive_bayes import GaussianNB\n",
    "from sklearn.ensemble import RandomForestClassifier\n",
    "from xgboost import XGBClassifier\n",
    "from sklearn.metrics import accuracy_score\n",
    "from sklearn.metrics import roc_curve\n",
    "from sklearn.model_selection import train_test_split\n",
    "from sklearn.preprocessing import MinMaxScaler\n",
    "from sklearn.model_selection import KFold\n",
    "from sklearn.model_selection import cross_val_score\n",
    "from sklearn.model_selection import GridSearchCV\n",
    "from sklearn.pipeline import Pipeline"
   ]
  },
  {
   "cell_type": "markdown",
   "metadata": {},
   "source": [
    "## Load Files\n",
    "### clicks_train.csv"
   ]
  },
  {
   "cell_type": "code",
   "execution_count": 2,
   "metadata": {},
   "outputs": [],
   "source": [
    "# Subset = 0 : All rows of clicks_train\n",
    "# Subset = 1 : First 5,000,000\n",
    "subset = 1\n",
    "\n",
    "if subset == 1:\n",
    "    # Select First 5,000,000 Rows of clicks_train as File too large\n",
    "    reader = pd.read_csv('clicks_train.csv',iterator=True,chunksize=5000000)\n",
    "    train = next(reader)\n",
    "else:\n",
    "    # Select All Rows of clicks_train \n",
    "    train = pd.read_csv('clicks_train.csv')"
   ]
  },
  {
   "cell_type": "markdown",
   "metadata": {},
   "source": [
    "### events.csv"
   ]
  },
  {
   "cell_type": "code",
   "execution_count": 3,
   "metadata": {},
   "outputs": [
    {
     "name": "stderr",
     "output_type": "stream",
     "text": [
      "C:\\ProgramData\\Anaconda3\\lib\\site-packages\\IPython\\core\\interactiveshell.py:3020: DtypeWarning: Columns (4) have mixed types. Specify dtype option on import or set low_memory=False.\n",
      "  interactivity=interactivity, compiler=compiler, result=result)\n"
     ]
    }
   ],
   "source": [
    "# Subset = 0 : All rows of events\n",
    "# Subset = 1 : First 5,000,000\n",
    "subset=0\n",
    "if subset == 1:\n",
    "    # Select First 5,000,000 Rows of events.csv as File too large\n",
    "    reader = pd.read_csv('events.csv',iterator=True,chunksize=5000000)\n",
    "    events = next(reader)\n",
    "else:\n",
    "    # Select All Rows of clicks_train \n",
    "    events = pd.read_csv('events.csv')"
   ]
  },
  {
   "cell_type": "code",
   "execution_count": 4,
   "metadata": {},
   "outputs": [
    {
     "data": {
      "text/html": [
       "<div>\n",
       "<style scoped>\n",
       "    .dataframe tbody tr th:only-of-type {\n",
       "        vertical-align: middle;\n",
       "    }\n",
       "\n",
       "    .dataframe tbody tr th {\n",
       "        vertical-align: top;\n",
       "    }\n",
       "\n",
       "    .dataframe thead th {\n",
       "        text-align: right;\n",
       "    }\n",
       "</style>\n",
       "<table border=\"1\" class=\"dataframe\">\n",
       "  <thead>\n",
       "    <tr style=\"text-align: right;\">\n",
       "      <th></th>\n",
       "      <th>display_id</th>\n",
       "      <th>uuid</th>\n",
       "      <th>document_id</th>\n",
       "      <th>timestamp</th>\n",
       "      <th>platform</th>\n",
       "      <th>geo_location</th>\n",
       "    </tr>\n",
       "  </thead>\n",
       "  <tbody>\n",
       "    <tr>\n",
       "      <th>0</th>\n",
       "      <td>1</td>\n",
       "      <td>cb8c55702adb93</td>\n",
       "      <td>379743</td>\n",
       "      <td>61</td>\n",
       "      <td>3</td>\n",
       "      <td>US&gt;SC&gt;519</td>\n",
       "    </tr>\n",
       "    <tr>\n",
       "      <th>1</th>\n",
       "      <td>2</td>\n",
       "      <td>79a85fa78311b9</td>\n",
       "      <td>1794259</td>\n",
       "      <td>81</td>\n",
       "      <td>2</td>\n",
       "      <td>US&gt;CA&gt;807</td>\n",
       "    </tr>\n",
       "    <tr>\n",
       "      <th>2</th>\n",
       "      <td>3</td>\n",
       "      <td>822932ce3d8757</td>\n",
       "      <td>1179111</td>\n",
       "      <td>182</td>\n",
       "      <td>2</td>\n",
       "      <td>US&gt;MI&gt;505</td>\n",
       "    </tr>\n",
       "    <tr>\n",
       "      <th>3</th>\n",
       "      <td>4</td>\n",
       "      <td>85281d0a49f7ac</td>\n",
       "      <td>1777797</td>\n",
       "      <td>234</td>\n",
       "      <td>2</td>\n",
       "      <td>US&gt;WV&gt;564</td>\n",
       "    </tr>\n",
       "    <tr>\n",
       "      <th>4</th>\n",
       "      <td>5</td>\n",
       "      <td>8d0daef4bf5b56</td>\n",
       "      <td>252458</td>\n",
       "      <td>338</td>\n",
       "      <td>2</td>\n",
       "      <td>SG&gt;00</td>\n",
       "    </tr>\n",
       "  </tbody>\n",
       "</table>\n",
       "</div>"
      ],
      "text/plain": [
       "   display_id            uuid  document_id  timestamp platform geo_location\n",
       "0           1  cb8c55702adb93       379743         61        3    US>SC>519\n",
       "1           2  79a85fa78311b9      1794259         81        2    US>CA>807\n",
       "2           3  822932ce3d8757      1179111        182        2    US>MI>505\n",
       "3           4  85281d0a49f7ac      1777797        234        2    US>WV>564\n",
       "4           5  8d0daef4bf5b56       252458        338        2        SG>00"
      ]
     },
     "execution_count": 4,
     "metadata": {},
     "output_type": "execute_result"
    }
   ],
   "source": [
    "events.head()"
   ]
  },
  {
   "cell_type": "code",
   "execution_count": 5,
   "metadata": {},
   "outputs": [
    {
     "name": "stdout",
     "output_type": "stream",
     "text": [
      "uuid\n",
      "1000003a6ad6e3    1\n",
      "ab102e68b2433d    1\n",
      "ab102fe3632a43    1\n",
      "ab102fff7d95ff    1\n",
      "ab10304759d24e    1\n",
      "Name: uuid, dtype: int64\n",
      "Users that appear less than 2 times: 88.42%\n",
      "Users that appear less than 5 times: 99.51%\n",
      "Users that appear less than 10 times: 99.96%\n"
     ]
    }
   ],
   "source": [
    "userID_counts = events.groupby('uuid')['uuid'].count().sort_values()\n",
    "print(userID_counts.head())\n",
    "for i in [2, 5, 10]:\n",
    "    print('Users that appear less than {} times: {}%'.format(i, round((userID_counts < i).mean() * 100, 2)))"
   ]
  },
  {
   "cell_type": "code",
   "execution_count": 6,
   "metadata": {},
   "outputs": [],
   "source": [
    "# As users that appear less than 2 times are more than 92.98%, we can delete users('uuid') column."
   ]
  },
  {
   "cell_type": "markdown",
   "metadata": {},
   "source": [
    "### promoted_content.csv"
   ]
  },
  {
   "cell_type": "code",
   "execution_count": 7,
   "metadata": {},
   "outputs": [],
   "source": [
    "# Load promoted_content.csv\n",
    "content = pd.read_csv('promoted_content.csv')\n",
    "# Remove document_id as events.csv already contain this information\n",
    "content = content.drop('document_id',axis=1) # to be explained as follows"
   ]
  },
  {
   "cell_type": "markdown",
   "metadata": {},
   "source": [
    "### document.csv"
   ]
  },
  {
   "cell_type": "code",
   "execution_count": 8,
   "metadata": {},
   "outputs": [],
   "source": [
    "documents_meta = pd.read_csv('documents_meta.csv')\n",
    "documents_topics = pd.read_csv('documents_topics.csv')\n",
    "documents_categories = pd.read_csv('documents_categories.csv')\n",
    "documents_entities = pd.read_csv('documents_entities.csv')"
   ]
  },
  {
   "cell_type": "code",
   "execution_count": 10,
   "metadata": {},
   "outputs": [],
   "source": [
    "data = pd.merge(train,events,how='left',on='display_id')\n",
    "data = pd.merge(data,documents_meta,how='left',on='document_id')\n",
    "data = pd.merge(data,documents_entities,how='left',on='document_id')\n",
    "data = pd.merge(data,documents_topics,how='left',on='document_id')\n",
    "data = pd.merge(data,documents_categories,how='left',on='document_id')\n",
    "# Read in Test file\n",
    "test= pd.read_csv('clicks_test.csv')\n",
    "data1 = pd.merge(test,events,how='left',on='display_id')\n",
    "data1 = pd.merge(data1,documents_meta,how='left',on='document_id')\n",
    "data1 = pd.merge(data1,documents_entities,how='left',on='document_id')\n",
    "data1 = pd.merge(data1,documents_topics,how='left',on='document_id')\n",
    "data1 = pd.merge(data1,documents_categories,how='left',on='document_id')"
   ]
  },
  {
   "cell_type": "code",
   "execution_count": 11,
   "metadata": {},
   "outputs": [],
   "source": [
    "Source_id_NaN_numbers=int(data['source_id'].isna().sum())\n",
    "Source_id_NaN_rate=int(data['source_id'].isna().sum())/len(data)\n",
    "Publisher_id_NaN_numbers=int(data['publisher_id'].isna().sum())\n",
    "Publisher_id_NaN_rate=int(data['publisher_id'].isna().sum())/len(data)\n",
    "Publish_time_NaN_numbers=int(data['publish_time'].isna().sum())\n",
    "Publish_time_NaN_rate=int(data['publish_time'].isna().sum())/len(data)\n",
    "Entity_id_NaN_numbers=int(data['entity_id'].isna().sum())\n",
    "Entity_id_NaN_rate=int(data['entity_id'].isna().sum())/len(data)\n",
    "Topic_id_NaN_numbers=int(data['topic_id'].isna().sum())\n",
    "Topic_id_NaN_rate=int(data['topic_id'].isna().sum())/len(data)\n",
    "Category_id_NaN_numbers=int(data['category_id'].isna().sum())\n",
    "Category_id_NaN_rate=int(data['category_id'].isna().sum())/len(data)"
   ]
  },
  {
   "cell_type": "code",
   "execution_count": 16,
   "metadata": {},
   "outputs": [],
   "source": [
    "Source_id_NaN_numbers1=int(data1['source_id'].isna().sum())\n",
    "Source_id_NaN_rate1=int(data1['source_id'].isna().sum())/len(data1)\n",
    "Publisher_id_NaN_numbers1=int(data1['publisher_id'].isna().sum())\n",
    "Publisher_id_NaN_rate1=int(data1['publisher_id'].isna().sum())/len(data1)\n",
    "Publish_time_NaN_numbers1=int(data1['publish_time'].isna().sum())\n",
    "Publish_time_NaN_rate1=int(data1['publish_time'].isna().sum())/len(data1)\n",
    "Entity_id_NaN_numbers1=int(data1['entity_id'].isna().sum())\n",
    "Entity_id_NaN_rate1=int(data1['entity_id'].isna().sum())/len(data1)\n",
    "Topic_id_NaN_numbers1=int(data1['topic_id'].isna().sum())\n",
    "Topic_id_NaN_rate1=int(data1['topic_id'].isna().sum())/len(data1)\n",
    "Category_id_NaN_numbers1=int(data1['category_id'].isna().sum())\n",
    "Category_id_NaN_rate1=int(data1['category_id'].isna().sum())/len(data1)"
   ]
  },
  {
   "cell_type": "code",
   "execution_count": 14,
   "metadata": {},
   "outputs": [
    {
     "data": {
      "text/html": [
       "<div>\n",
       "<style scoped>\n",
       "    .dataframe tbody tr th:only-of-type {\n",
       "        vertical-align: middle;\n",
       "    }\n",
       "\n",
       "    .dataframe tbody tr th {\n",
       "        vertical-align: top;\n",
       "    }\n",
       "\n",
       "    .dataframe thead th {\n",
       "        text-align: right;\n",
       "    }\n",
       "</style>\n",
       "<table border=\"1\" class=\"dataframe\">\n",
       "  <thead>\n",
       "    <tr style=\"text-align: right;\">\n",
       "      <th></th>\n",
       "      <th>Feature</th>\n",
       "      <th>NaN_numbers_train</th>\n",
       "      <th>NaN_rate_train</th>\n",
       "      <th>NaN_numbers_test</th>\n",
       "      <th>NaN_rate_test</th>\n",
       "    </tr>\n",
       "  </thead>\n",
       "  <tbody>\n",
       "    <tr>\n",
       "      <th>0</th>\n",
       "      <td>Source_id</td>\n",
       "      <td>90</td>\n",
       "      <td>5.558802e-07</td>\n",
       "      <td>35448</td>\n",
       "      <td>0.000426</td>\n",
       "    </tr>\n",
       "    <tr>\n",
       "      <th>1</th>\n",
       "      <td>Publisher_id</td>\n",
       "      <td>102</td>\n",
       "      <td>6.299975e-07</td>\n",
       "      <td>35448</td>\n",
       "      <td>0.000426</td>\n",
       "    </tr>\n",
       "    <tr>\n",
       "      <th>2</th>\n",
       "      <td>Entity_id</td>\n",
       "      <td>7522714</td>\n",
       "      <td>4.646364e-02</td>\n",
       "      <td>12160182</td>\n",
       "      <td>0.146103</td>\n",
       "    </tr>\n",
       "    <tr>\n",
       "      <th>3</th>\n",
       "      <td>Topic_id</td>\n",
       "      <td>175951</td>\n",
       "      <td>1.086752e-03</td>\n",
       "      <td>8250899</td>\n",
       "      <td>0.036668</td>\n",
       "    </tr>\n",
       "    <tr>\n",
       "      <th>4</th>\n",
       "      <td>Category_id</td>\n",
       "      <td>443170</td>\n",
       "      <td>2.737216e-03</td>\n",
       "      <td>1913285</td>\n",
       "      <td>0.008503</td>\n",
       "    </tr>\n",
       "  </tbody>\n",
       "</table>\n",
       "</div>"
      ],
      "text/plain": [
       "        Feature  NaN_numbers_train  NaN_rate_train  NaN_numbers_test  \\\n",
       "0     Source_id                 90    5.558802e-07             35448   \n",
       "1  Publisher_id                102    6.299975e-07             35448   \n",
       "2     Entity_id            7522714    4.646364e-02          12160182   \n",
       "3      Topic_id             175951    1.086752e-03           8250899   \n",
       "4   Category_id             443170    2.737216e-03           1913285   \n",
       "\n",
       "   NaN_rate_test  \n",
       "0       0.000426  \n",
       "1       0.000426  \n",
       "2       0.146103  \n",
       "3       0.036668  \n",
       "4       0.008503  "
      ]
     },
     "execution_count": 14,
     "metadata": {},
     "output_type": "execute_result"
    }
   ],
   "source": [
    "NaN_matrix = pd.DataFrame({\n",
    "    'Feature': ['Source_id', 'Publisher_id', 'Entity_id', 'Topic_id', 'Category_id'],\n",
    "    'NaN_numbers_train': [Source_id_NaN_numbers, Publisher_id_NaN_numbers,\n",
    "                    Entity_id_NaN_numbers, Topic_id_NaN_numbers, Category_id_NaN_numbers],\n",
    "    'NaN_rate_train': [Source_id_NaN_rate, Publisher_id_NaN_rate, \n",
    "                 Entity_id_NaN_rate, Topic_id_NaN_rate, Category_id_NaN_rate],\n",
    "    'NaN_numbers_test': [Source_id_NaN_numbers1, Publisher_id_NaN_numbers1,\n",
    "                    Entity_id_NaN_numbers1, Topic_id_NaN_numbers1, Category_id_NaN_numbers1],\n",
    "    'NaN_rate_test': [Source_id_NaN_rate1, Publisher_id_NaN_rate1, \n",
    "                 Entity_id_NaN_rate1, Topic_id_NaN_rate1, Category_id_NaN_rate1],\n",
    "    })\n",
    "NaN_matrix"
   ]
  },
  {
   "cell_type": "code",
   "execution_count": 15,
   "metadata": {},
   "outputs": [
    {
     "data": {
      "image/png": "[encoded data removed]",
      "text/plain": [
       "<Figure size 432x288 with 1 Axes>"
      ]
     },
     "metadata": {
      "needs_background": "light"
     },
     "output_type": "display_data"
    },
    {
     "name": "stdout",
     "output_type": "stream",
     "text": [
      "Documents that appear less than 2 times: 35.72%\n",
      "Documents that appear less than 5 times: 64.52%\n",
      "Documents that appear less than 10 times: 77.81%\n",
      "Documents that appear less than 50 times: 93.44%\n",
      "Documents that appear less than 200 times: 98.16%\n",
      "Documents that appear less than 500 times: 99.32%\n",
      "Documents that appear less than 1000 times: 99.7%\n"
     ]
    }
   ],
   "source": [
    "document_unique_count = events['document_id'].value_counts()\n",
    "document_unique_count.hist(bins=50)\n",
    "plt.show()\n",
    "\n",
    "for i in [2,5,10,50,200,500,1000]:\n",
    "    print('Documents that appear less than {} times: {}%'.format(i, round((document_unique_count < i).mean() * 100, 2)))\n",
    "\n",
    "try:del document_unique_count \n",
    "except:pass;gc.collect()\n"
   ]
  },
  {
   "cell_type": "code",
   "execution_count": null,
   "metadata": {},
   "outputs": [],
   "source": [
    "# Due to large number of NA values and most documents appear less than 10 times, we now ignore the document data\n",
    "#the total dataset is about 36 GB, our computer will run out of memory without reducing these data."
   ]
  },
  {
   "cell_type": "markdown",
   "metadata": {},
   "source": [
    "## Join files into a single dataframe"
   ]
  },
  {
   "cell_type": "code",
   "execution_count": 5,
   "metadata": {},
   "outputs": [
    {
     "data": {
      "text/html": [
       "<div>\n",
       "<style scoped>\n",
       "    .dataframe tbody tr th:only-of-type {\n",
       "        vertical-align: middle;\n",
       "    }\n",
       "\n",
       "    .dataframe tbody tr th {\n",
       "        vertical-align: top;\n",
       "    }\n",
       "\n",
       "    .dataframe thead th {\n",
       "        text-align: right;\n",
       "    }\n",
       "</style>\n",
       "<table border=\"1\" class=\"dataframe\">\n",
       "  <thead>\n",
       "    <tr style=\"text-align: right;\">\n",
       "      <th></th>\n",
       "      <th>display_id</th>\n",
       "      <th>ad_id</th>\n",
       "      <th>clicked</th>\n",
       "      <th>campaign_id</th>\n",
       "      <th>advertiser_id</th>\n",
       "      <th>document_id</th>\n",
       "      <th>timestamp</th>\n",
       "      <th>platform</th>\n",
       "      <th>geo_location</th>\n",
       "    </tr>\n",
       "  </thead>\n",
       "  <tbody>\n",
       "    <tr>\n",
       "      <th>0</th>\n",
       "      <td>1</td>\n",
       "      <td>42337</td>\n",
       "      <td>0</td>\n",
       "      <td>5969</td>\n",
       "      <td>1499</td>\n",
       "      <td>379743</td>\n",
       "      <td>61</td>\n",
       "      <td>3</td>\n",
       "      <td>US&gt;SC&gt;519</td>\n",
       "    </tr>\n",
       "    <tr>\n",
       "      <th>1</th>\n",
       "      <td>1</td>\n",
       "      <td>139684</td>\n",
       "      <td>0</td>\n",
       "      <td>17527</td>\n",
       "      <td>2563</td>\n",
       "      <td>379743</td>\n",
       "      <td>61</td>\n",
       "      <td>3</td>\n",
       "      <td>US&gt;SC&gt;519</td>\n",
       "    </tr>\n",
       "    <tr>\n",
       "      <th>2</th>\n",
       "      <td>1</td>\n",
       "      <td>144739</td>\n",
       "      <td>1</td>\n",
       "      <td>18488</td>\n",
       "      <td>2909</td>\n",
       "      <td>379743</td>\n",
       "      <td>61</td>\n",
       "      <td>3</td>\n",
       "      <td>US&gt;SC&gt;519</td>\n",
       "    </tr>\n",
       "    <tr>\n",
       "      <th>3</th>\n",
       "      <td>1</td>\n",
       "      <td>156824</td>\n",
       "      <td>0</td>\n",
       "      <td>7283</td>\n",
       "      <td>1919</td>\n",
       "      <td>379743</td>\n",
       "      <td>61</td>\n",
       "      <td>3</td>\n",
       "      <td>US&gt;SC&gt;519</td>\n",
       "    </tr>\n",
       "    <tr>\n",
       "      <th>4</th>\n",
       "      <td>1</td>\n",
       "      <td>279295</td>\n",
       "      <td>0</td>\n",
       "      <td>27524</td>\n",
       "      <td>1820</td>\n",
       "      <td>379743</td>\n",
       "      <td>61</td>\n",
       "      <td>3</td>\n",
       "      <td>US&gt;SC&gt;519</td>\n",
       "    </tr>\n",
       "  </tbody>\n",
       "</table>\n",
       "</div>"
      ],
      "text/plain": [
       "   display_id   ad_id  clicked  campaign_id  advertiser_id  document_id  \\\n",
       "0           1   42337        0         5969           1499       379743   \n",
       "1           1  139684        0        17527           2563       379743   \n",
       "2           1  144739        1        18488           2909       379743   \n",
       "3           1  156824        0         7283           1919       379743   \n",
       "4           1  279295        0        27524           1820       379743   \n",
       "\n",
       "   timestamp platform geo_location  \n",
       "0         61        3    US>SC>519  \n",
       "1         61        3    US>SC>519  \n",
       "2         61        3    US>SC>519  \n",
       "3         61        3    US>SC>519  \n",
       "4         61        3    US>SC>519  "
      ]
     },
     "execution_count": 5,
     "metadata": {},
     "output_type": "execute_result"
    }
   ],
   "source": [
    "# Merge train data + content on ad_id to get features about the ad\n",
    "data = pd.merge(train,content,how='left',on='ad_id')\n",
    "data.head()\n",
    "\n",
    "# Merge train data + events on ad_id to get features about the ad \n",
    "data = pd.merge(data,events,how='left',on='display_id')\n",
    "# Drop uuid (user id) as it is not a relevant feature\n",
    "data = data.drop('uuid',axis=1)\n",
    "data.head()"
   ]
  },
  {
   "cell_type": "markdown",
   "metadata": {},
   "source": [
    "## Data Cleaning\n",
    "### NaN Values"
   ]
  },
  {
   "cell_type": "code",
   "execution_count": 6,
   "metadata": {},
   "outputs": [
    {
     "data": {
      "text/plain": [
       "display_id         0\n",
       "ad_id              0\n",
       "clicked            0\n",
       "campaign_id        0\n",
       "advertiser_id      0\n",
       "document_id        0\n",
       "timestamp          0\n",
       "platform           0\n",
       "geo_location     113\n",
       "dtype: int64"
      ]
     },
     "execution_count": 6,
     "metadata": {},
     "output_type": "execute_result"
    }
   ],
   "source": [
    "# Number of NaN values in data\n",
    "data.isna().sum()"
   ]
  },
  {
   "cell_type": "markdown",
   "metadata": {},
   "source": [
    "### geo_location"
   ]
  },
  {
   "cell_type": "code",
   "execution_count": 7,
   "metadata": {},
   "outputs": [],
   "source": [
    "# Fill NaN values with string to represent Not in_US \n",
    "data.geo_location = data.geo_location.fillna('CA')"
   ]
  },
  {
   "cell_type": "code",
   "execution_count": 8,
   "metadata": {},
   "outputs": [
    {
     "data": {
      "text/plain": [
       "US>CA>803    205094\n",
       "US>NY>501    184027\n",
       "US           142234\n",
       "US>CA>807    141779\n",
       "CA>ON        119309\n",
       "US>IL>602    119245\n",
       "US>TX>618    109436\n",
       "US>TX>623     93014\n",
       "US>PA>504     89206\n",
       "US>MI>505     86138\n",
       "Name: geo_location, dtype: int64"
      ]
     },
     "execution_count": 8,
     "metadata": {},
     "output_type": "execute_result"
    }
   ],
   "source": [
    "data.geo_location.value_counts()[:10]"
   ]
  },
  {
   "cell_type": "code",
   "execution_count": 9,
   "metadata": {},
   "outputs": [],
   "source": [
    "# Split into categorical feature of in_US\n",
    "# 0 for not in US and 1 for in US\n",
    "arr = []\n",
    "for i in data.geo_location:\n",
    "    if i.find(\"US\") == -1:\n",
    "        # Not in US\n",
    "        arr.append(0)\n",
    "    else:\n",
    "        # In US\n",
    "        arr.append(1)\n",
    "data['in_US'] = arr\n",
    "data = data.drop('geo_location',axis=1)"
   ]
  },
  {
   "cell_type": "code",
   "execution_count": 10,
   "metadata": {},
   "outputs": [
    {
     "data": {
      "text/plain": [
       "1    3930758\n",
       "0    1069242\n",
       "Name: in_US, dtype: int64"
      ]
     },
     "execution_count": 10,
     "metadata": {},
     "output_type": "execute_result"
    }
   ],
   "source": [
    "data['in_US'].value_counts()"
   ]
  },
  {
   "cell_type": "code",
   "execution_count": 11,
   "metadata": {},
   "outputs": [
    {
     "data": {
      "image/png": "[encoded data removed]",
      "text/plain": [
       "<Figure size 432x288 with 2 Axes>"
      ]
     },
     "metadata": {
      "needs_background": "light"
     },
     "output_type": "display_data"
    }
   ],
   "source": [
    "# number of clicks not in US vs in US \n",
    "fig, (ax1, ax2) = plt.subplots(1,2) \n",
    "fig.subplots_adjust(left=None, bottom=None, right=2, top=None, wspace=None, hspace=None)\n",
    "ax1.bar(range(2), np.bincount(data.in_US[data.clicked==1]), width=0.8, align='center')\n",
    "ax1.set_title('Clicked Ads: not_in_US (0) vs in_US (1)')\n",
    "ax1.set(xticks=range(2), xlim=[-1, 2]);\n",
    "\n",
    "# Number of Ads not in US vs in US\n",
    "ax2.bar(range(2), np.bincount(data.in_US), width=0.8, align='center')\n",
    "ax2.set_title('Number of ads: not_in_US (0) vs in_US (1)')\n",
    "ax2.set(xticks=range(2), xlim=[-1, 2]);"
   ]
  },
  {
   "cell_type": "markdown",
   "metadata": {},
   "source": [
    "## Categorical Features"
   ]
  },
  {
   "cell_type": "code",
   "execution_count": 12,
   "metadata": {},
   "outputs": [
    {
     "data": {
      "text/html": [
       "<div>\n",
       "<style scoped>\n",
       "    .dataframe tbody tr th:only-of-type {\n",
       "        vertical-align: middle;\n",
       "    }\n",
       "\n",
       "    .dataframe tbody tr th {\n",
       "        vertical-align: top;\n",
       "    }\n",
       "\n",
       "    .dataframe thead th {\n",
       "        text-align: right;\n",
       "    }\n",
       "</style>\n",
       "<table border=\"1\" class=\"dataframe\">\n",
       "  <thead>\n",
       "    <tr style=\"text-align: right;\">\n",
       "      <th></th>\n",
       "      <th>display_id</th>\n",
       "      <th>ad_id</th>\n",
       "      <th>clicked</th>\n",
       "      <th>campaign_id</th>\n",
       "      <th>advertiser_id</th>\n",
       "      <th>document_id</th>\n",
       "      <th>timestamp</th>\n",
       "      <th>platform</th>\n",
       "      <th>in_US</th>\n",
       "    </tr>\n",
       "  </thead>\n",
       "  <tbody>\n",
       "    <tr>\n",
       "      <th>0</th>\n",
       "      <td>1</td>\n",
       "      <td>42337</td>\n",
       "      <td>0</td>\n",
       "      <td>5969</td>\n",
       "      <td>1499</td>\n",
       "      <td>379743</td>\n",
       "      <td>61</td>\n",
       "      <td>3</td>\n",
       "      <td>1</td>\n",
       "    </tr>\n",
       "    <tr>\n",
       "      <th>1</th>\n",
       "      <td>1</td>\n",
       "      <td>139684</td>\n",
       "      <td>0</td>\n",
       "      <td>17527</td>\n",
       "      <td>2563</td>\n",
       "      <td>379743</td>\n",
       "      <td>61</td>\n",
       "      <td>3</td>\n",
       "      <td>1</td>\n",
       "    </tr>\n",
       "    <tr>\n",
       "      <th>2</th>\n",
       "      <td>1</td>\n",
       "      <td>144739</td>\n",
       "      <td>1</td>\n",
       "      <td>18488</td>\n",
       "      <td>2909</td>\n",
       "      <td>379743</td>\n",
       "      <td>61</td>\n",
       "      <td>3</td>\n",
       "      <td>1</td>\n",
       "    </tr>\n",
       "    <tr>\n",
       "      <th>3</th>\n",
       "      <td>1</td>\n",
       "      <td>156824</td>\n",
       "      <td>0</td>\n",
       "      <td>7283</td>\n",
       "      <td>1919</td>\n",
       "      <td>379743</td>\n",
       "      <td>61</td>\n",
       "      <td>3</td>\n",
       "      <td>1</td>\n",
       "    </tr>\n",
       "    <tr>\n",
       "      <th>4</th>\n",
       "      <td>1</td>\n",
       "      <td>279295</td>\n",
       "      <td>0</td>\n",
       "      <td>27524</td>\n",
       "      <td>1820</td>\n",
       "      <td>379743</td>\n",
       "      <td>61</td>\n",
       "      <td>3</td>\n",
       "      <td>1</td>\n",
       "    </tr>\n",
       "  </tbody>\n",
       "</table>\n",
       "</div>"
      ],
      "text/plain": [
       "   display_id   ad_id  clicked  campaign_id  advertiser_id  document_id  \\\n",
       "0           1   42337        0         5969           1499       379743   \n",
       "1           1  139684        0        17527           2563       379743   \n",
       "2           1  144739        1        18488           2909       379743   \n",
       "3           1  156824        0         7283           1919       379743   \n",
       "4           1  279295        0        27524           1820       379743   \n",
       "\n",
       "   timestamp platform  in_US  \n",
       "0         61        3      1  \n",
       "1         61        3      1  \n",
       "2         61        3      1  \n",
       "3         61        3      1  \n",
       "4         61        3      1  "
      ]
     },
     "execution_count": 12,
     "metadata": {},
     "output_type": "execute_result"
    }
   ],
   "source": [
    "data.head()"
   ]
  },
  {
   "cell_type": "markdown",
   "metadata": {},
   "source": [
    "### timestamp"
   ]
  },
  {
   "cell_type": "code",
   "execution_count": 13,
   "metadata": {},
   "outputs": [],
   "source": [
    "# Convert time into year month date time format\n",
    "data.timestamp = data.timestamp+1465876799998\n",
    "data.timestamp = pd.to_datetime(data.timestamp,unit='ms')"
   ]
  },
  {
   "cell_type": "code",
   "execution_count": 14,
   "metadata": {},
   "outputs": [
    {
     "data": {
      "text/plain": [
       "Timestamp('2016-06-14 04:00:00.059000')"
      ]
     },
     "execution_count": 14,
     "metadata": {},
     "output_type": "execute_result"
    }
   ],
   "source": [
    "data.timestamp.min()"
   ]
  },
  {
   "cell_type": "code",
   "execution_count": 15,
   "metadata": {},
   "outputs": [
    {
     "data": {
      "text/plain": [
       "Timestamp('2016-06-14 20:35:59.837000')"
      ]
     },
     "execution_count": 15,
     "metadata": {},
     "output_type": "execute_result"
    }
   ],
   "source": [
    "data.timestamp.max()"
   ]
  },
  {
   "cell_type": "code",
   "execution_count": 16,
   "metadata": {},
   "outputs": [],
   "source": [
    "# Convert Timestamp into categorical feature of Time_of_day\n",
    "# 1 = morning, 2 = Mid-day, 3 = Evening\n",
    "arr = []\n",
    "for i in data.timestamp:\n",
    "    hour = i.hour\n",
    "    if (4<hour<=12):\n",
    "        # Morning\n",
    "        arr.append(1)\n",
    "    elif (12<hour<=20):\n",
    "        # Mid-day\n",
    "        arr.append(2)\n",
    "    else:\n",
    "        # Evening\n",
    "        arr.append(3)\n",
    "data['Time_of_day'] = arr\n",
    "data = data.drop('timestamp',axis=1)"
   ]
  },
  {
   "cell_type": "code",
   "execution_count": 17,
   "metadata": {},
   "outputs": [
    {
     "data": {
      "image/png": "[encoded data removed]",
      "text/plain": [
       "<Figure size 432x288 with 2 Axes>"
      ]
     },
     "metadata": {
      "needs_background": "light"
     },
     "output_type": "display_data"
    }
   ],
   "source": [
    "# number of clicks in different Time_of_day\n",
    "fig, (ax1, ax2) = plt.subplots(1,2) \n",
    "fig.subplots_adjust(left=None, bottom=None, right=2, top=None, wspace=None, hspace=None)\n",
    "ax1.bar([0,1,2,3], np.bincount(data['Time_of_day'][data.clicked==1]), width=0.8, align='center')\n",
    "ax1.set_title('Clicked Ads: Morning (1) vs Mid-Day (2) vs Evening (3)')\n",
    "ax1.set(xticks=range(1,4), xlim=[0, 4]);\n",
    "\n",
    "# number of ad views in different Time_of day\n",
    "ax2.bar([0,1,2,3], np.bincount(data['Time_of_day']), width=0.8, align='center')\n",
    "ax2.set_title('Number of ads viewd: Morning (1) vs Mid-Day (2) vs Evening (3)')\n",
    "ax2.set(xticks=range(1,4), xlim=[0, 4]);"
   ]
  },
  {
   "cell_type": "markdown",
   "metadata": {},
   "source": [
    "### platform"
   ]
  },
  {
   "cell_type": "code",
   "execution_count": 18,
   "metadata": {},
   "outputs": [
    {
     "data": {
      "text/plain": [
       "1     2141103\n",
       "2     1693026\n",
       "3      492518\n",
       "1      307029\n",
       "2      276299\n",
       "3       90021\n",
       "\\N          4\n",
       "Name: platform, dtype: int64"
      ]
     },
     "execution_count": 18,
     "metadata": {},
     "output_type": "execute_result"
    }
   ],
   "source": [
    "data.platform.value_counts()"
   ]
  },
  {
   "cell_type": "code",
   "execution_count": 19,
   "metadata": {},
   "outputs": [],
   "source": [
    "# Drop rows with '\\N' values\n",
    "data = data[data['platform'].isin([1,2,3,'1','2','3'])]\n",
    "# Convert String Values to Integer\n",
    "data = data.astype({'platform': 'int'})"
   ]
  },
  {
   "cell_type": "code",
   "execution_count": 20,
   "metadata": {},
   "outputs": [
    {
     "data": {
      "text/plain": [
       "1    2448132\n",
       "2    1969325\n",
       "3     582539\n",
       "Name: platform, dtype: int64"
      ]
     },
     "execution_count": 20,
     "metadata": {},
     "output_type": "execute_result"
    }
   ],
   "source": [
    "data.platform.value_counts()"
   ]
  },
  {
   "cell_type": "code",
   "execution_count": 21,
   "metadata": {},
   "outputs": [
    {
     "data": {
      "image/png": "[encoded data removed]",
      "text/plain": [
       "<Figure size 432x288 with 2 Axes>"
      ]
     },
     "metadata": {
      "needs_background": "light"
     },
     "output_type": "display_data"
    }
   ],
   "source": [
    "# number of clicks in different platform\n",
    "fig, (ax1, ax2) = plt.subplots(1,2) \n",
    "fig.subplots_adjust(left=None, bottom=None, right=2, top=None, wspace=None, hspace=None)\n",
    "ax1.bar([0,1,2,3], np.bincount(data['platform'][data.clicked==1]), width=0.8, align='center')\n",
    "ax1.set_title('Clicked Ads: Desktop (1) vs Mobile (2) vs Tablet (3)')\n",
    "ax1.set(xticks=range(1,4), xlim=[0, 4]);\n",
    "\n",
    "# number of ad views in different platform\n",
    "ax2.bar([0,1,2,3], np.bincount(data['platform']), width=0.8, align='center')\n",
    "ax2.set_title('Number of ads viewd: Desktop (1) vs Mobile (2) vs Tablet (3)')\n",
    "ax2.set(xticks=range(1,4), xlim=[0, 4]);"
   ]
  },
  {
   "cell_type": "markdown",
   "metadata": {},
   "source": [
    "### Other Columns\n",
    "- ad_id, campaign_id, advertiser_id, document_id"
   ]
  },
  {
   "cell_type": "code",
   "execution_count": 22,
   "metadata": {},
   "outputs": [
    {
     "name": "stdout",
     "output_type": "stream",
     "text": [
      "# unique:  97078\n",
      "# unique:  18486\n",
      "# unique:  2856\n",
      "# unique:  121859\n"
     ]
    }
   ],
   "source": [
    "print('# unique: ',len(data.ad_id.unique()))\n",
    "print('# unique: ',len(data.campaign_id.unique()))\n",
    "print('# unique: ',len(data.advertiser_id.unique()))\n",
    "print('# unique: ',len(data.document_id.unique()))"
   ]
  },
  {
   "cell_type": "markdown",
   "metadata": {},
   "source": [
    "- Too many unique id's to form categorical features, can only leave it as integer values \n",
    "- Will perform feature scaling on these features"
   ]
  },
  {
   "cell_type": "markdown",
   "metadata": {},
   "source": [
    "## Split Data and Train Model"
   ]
  },
  {
   "cell_type": "code",
   "execution_count": 23,
   "metadata": {},
   "outputs": [
    {
     "data": {
      "text/html": [
       "<div>\n",
       "<style scoped>\n",
       "    .dataframe tbody tr th:only-of-type {\n",
       "        vertical-align: middle;\n",
       "    }\n",
       "\n",
       "    .dataframe tbody tr th {\n",
       "        vertical-align: top;\n",
       "    }\n",
       "\n",
       "    .dataframe thead th {\n",
       "        text-align: right;\n",
       "    }\n",
       "</style>\n",
       "<table border=\"1\" class=\"dataframe\">\n",
       "  <thead>\n",
       "    <tr style=\"text-align: right;\">\n",
       "      <th></th>\n",
       "      <th>display_id</th>\n",
       "      <th>ad_id</th>\n",
       "      <th>clicked</th>\n",
       "      <th>campaign_id</th>\n",
       "      <th>advertiser_id</th>\n",
       "      <th>document_id</th>\n",
       "      <th>platform</th>\n",
       "      <th>in_US</th>\n",
       "      <th>Time_of_day</th>\n",
       "    </tr>\n",
       "  </thead>\n",
       "  <tbody>\n",
       "    <tr>\n",
       "      <th>0</th>\n",
       "      <td>1</td>\n",
       "      <td>42337</td>\n",
       "      <td>0</td>\n",
       "      <td>5969</td>\n",
       "      <td>1499</td>\n",
       "      <td>379743</td>\n",
       "      <td>3</td>\n",
       "      <td>1</td>\n",
       "      <td>3</td>\n",
       "    </tr>\n",
       "    <tr>\n",
       "      <th>1</th>\n",
       "      <td>1</td>\n",
       "      <td>139684</td>\n",
       "      <td>0</td>\n",
       "      <td>17527</td>\n",
       "      <td>2563</td>\n",
       "      <td>379743</td>\n",
       "      <td>3</td>\n",
       "      <td>1</td>\n",
       "      <td>3</td>\n",
       "    </tr>\n",
       "    <tr>\n",
       "      <th>2</th>\n",
       "      <td>1</td>\n",
       "      <td>144739</td>\n",
       "      <td>1</td>\n",
       "      <td>18488</td>\n",
       "      <td>2909</td>\n",
       "      <td>379743</td>\n",
       "      <td>3</td>\n",
       "      <td>1</td>\n",
       "      <td>3</td>\n",
       "    </tr>\n",
       "    <tr>\n",
       "      <th>3</th>\n",
       "      <td>1</td>\n",
       "      <td>156824</td>\n",
       "      <td>0</td>\n",
       "      <td>7283</td>\n",
       "      <td>1919</td>\n",
       "      <td>379743</td>\n",
       "      <td>3</td>\n",
       "      <td>1</td>\n",
       "      <td>3</td>\n",
       "    </tr>\n",
       "    <tr>\n",
       "      <th>4</th>\n",
       "      <td>1</td>\n",
       "      <td>279295</td>\n",
       "      <td>0</td>\n",
       "      <td>27524</td>\n",
       "      <td>1820</td>\n",
       "      <td>379743</td>\n",
       "      <td>3</td>\n",
       "      <td>1</td>\n",
       "      <td>3</td>\n",
       "    </tr>\n",
       "  </tbody>\n",
       "</table>\n",
       "</div>"
      ],
      "text/plain": [
       "   display_id   ad_id  clicked  campaign_id  advertiser_id  document_id  \\\n",
       "0           1   42337        0         5969           1499       379743   \n",
       "1           1  139684        0        17527           2563       379743   \n",
       "2           1  144739        1        18488           2909       379743   \n",
       "3           1  156824        0         7283           1919       379743   \n",
       "4           1  279295        0        27524           1820       379743   \n",
       "\n",
       "   platform  in_US  Time_of_day  \n",
       "0         3      1            3  \n",
       "1         3      1            3  \n",
       "2         3      1            3  \n",
       "3         3      1            3  \n",
       "4         3      1            3  "
      ]
     },
     "execution_count": 23,
     "metadata": {},
     "output_type": "execute_result"
    }
   ],
   "source": [
    "data.head()"
   ]
  },
  {
   "cell_type": "code",
   "execution_count": 24,
   "metadata": {},
   "outputs": [],
   "source": [
    "# Split into predictors and target variable\n",
    "X = data.drop(['display_id','clicked'],axis=1)\n",
    "# Get dummy variables for categorical features of platform and time_of_day\n",
    "X = pd.get_dummies(X,columns=['platform','Time_of_day'],drop_first=True)\n",
    "y = data['clicked']\n",
    "\n",
    "# Convert all X values to float \n",
    "X = X.astype('float')"
   ]
  },
  {
   "cell_type": "markdown",
   "metadata": {},
   "source": [
    "## Scale Features"
   ]
  },
  {
   "cell_type": "code",
   "execution_count": 25,
   "metadata": {},
   "outputs": [],
   "source": [
    "# Scale Data\n",
    "scaler = MinMaxScaler()\n",
    "X_scaled = scaler.fit_transform(X)"
   ]
  },
  {
   "cell_type": "code",
   "execution_count": 26,
   "metadata": {},
   "outputs": [],
   "source": [
    "# Split into train and validation set (Stratify)\n",
    "X_train, X_test, y_train, y_test = train_test_split(X_scaled, y, test_size=0.33, stratify=y)"
   ]
  },
  {
   "cell_type": "markdown",
   "metadata": {},
   "source": [
    "## Cross-Valdiation + Model Selection + Parameter Tuning + Test Performance"
   ]
  },
  {
   "cell_type": "markdown",
   "metadata": {},
   "source": [
    "### Logistic Regression"
   ]
  },
  {
   "cell_type": "code",
   "execution_count": 28,
   "metadata": {},
   "outputs": [
    {
     "name": "stdout",
     "output_type": "stream",
     "text": [
      "{'C': 0.001, 'penalty': 'l2'}\n"
     ]
    }
   ],
   "source": [
    "grid={\"C\":np.logspace(-3,3,7),\"penalty\":[\"l2\"]}\n",
    "logreg = LogisticRegression(solver='lbfgs')\n",
    "logreg_cv = GridSearchCV(logreg,grid,cv=5)\n",
    "logreg_cv.fit(X_scaled, y)\n",
    "print(logreg_cv.best_params_)"
   ]
  },
  {
   "cell_type": "code",
   "execution_count": 29,
   "metadata": {},
   "outputs": [
    {
     "name": "stdout",
     "output_type": "stream",
     "text": [
      "Training Accuracy:  0.8074002459201968\n",
      "Cross Validation Score:  0.8074002459202614\n",
      "Test Accuracy:  0.8074004893336298\n"
     ]
    }
   ],
   "source": [
    "# Logistic Regression\n",
    "logreg = LogisticRegression(solver='lbfgs',C=0.001,penalty='l2').fit(X_scaled, y)\n",
    "acc_log = logreg.score(X_scaled, y)\n",
    "print('Training Accuracy: ',acc_log)\n",
    "\n",
    "# Cross Validation\n",
    "cvs_log = np.mean(cross_val_score(logreg, X_scaled, y, cv=3))\n",
    "print('Cross Validation Score: ',cvs_log)\n",
    "\n",
    "# Test accuracy\n",
    "logreg.fit(X_train, y_train)\n",
    "pred_y_test = logreg.predict(X_test)\n",
    "test_acc_log = accuracy_score(y_test,pred_y_test)\n",
    "print('Test Accuracy: ', test_acc_log)"
   ]
  },
  {
   "cell_type": "code",
   "execution_count": 30,
   "metadata": {},
   "outputs": [
    {
     "data": {
      "image/png": "[encoded data removed]",
      "text/plain": [
       "<Figure size 432x288 with 1 Axes>"
      ]
     },
     "metadata": {
      "needs_background": "light"
     },
     "output_type": "display_data"
    }
   ],
   "source": [
    "fpr, tpr,_=roc_curve(y_test,logreg.predict_proba(X_test)[:,1],drop_intermediate=False)\n",
    "plt.figure()\n",
    "####### Adding the ROC\n",
    "plt.plot(fpr, tpr, color='red', lw=2, label='ROC curve')\n",
    "####### Random FPR and TPR\n",
    "plt.plot([0,1],[0,1], color='blue', lw=2, linestyle='--')\n",
    "## Title and Label\n",
    "plt.xlabel('FPR')\n",
    "plt.ylabel('TPR')\n",
    "plt.title('Logistic Regression Test: ROC curve')\n",
    "plt.show()"
   ]
  },
  {
   "cell_type": "markdown",
   "metadata": {},
   "source": [
    "### Naive Bayes"
   ]
  },
  {
   "cell_type": "code",
   "execution_count": 31,
   "metadata": {},
   "outputs": [
    {
     "name": "stdout",
     "output_type": "stream",
     "text": [
      "Training Accuracy:  0.8074002459201968\n",
      "Cross Validation Score: 0.7955124411651395\n",
      "Test Accuracy:  0.8074004893336298\n"
     ]
    }
   ],
   "source": [
    "# Naive Bayes\n",
    "gaussian = GaussianNB().fit(X_scaled, y)\n",
    "acc_gaussian = gaussian.score(X_scaled, y)\n",
    "print('Training Accuracy: ',acc_gaussian)\n",
    "\n",
    "# Cross Validataion\n",
    "cvs_gaussian = np.mean(cross_val_score(gaussian, X_scaled, y, cv=3))\n",
    "print(\"Cross Validation Score:\", cvs_gaussian)\n",
    "\n",
    "# Test accuracy\n",
    "gaussian.fit(X_train, y_train)\n",
    "pred_y_test = gaussian.predict(X_test)\n",
    "\n",
    "test_acc_gaussian = accuracy_score(y_test,pred_y_test)\n",
    "print(\"Test Accuracy: \",test_acc_gaussian)"
   ]
  },
  {
   "cell_type": "code",
   "execution_count": 32,
   "metadata": {},
   "outputs": [
    {
     "data": {
      "image/png": "[encoded data removed]",
      "text/plain": [
       "<Figure size 432x288 with 1 Axes>"
      ]
     },
     "metadata": {
      "needs_background": "light"
     },
     "output_type": "display_data"
    }
   ],
   "source": [
    "fpr, tpr,_=roc_curve(y_test,gaussian.predict_proba(X_test)[:,1],drop_intermediate=False)\n",
    "plt.figure()\n",
    "####### Adding the ROC\n",
    "plt.plot(fpr, tpr, color='red', lw=2, label='ROC curve')\n",
    "####### Random FPR and TPR\n",
    "plt.plot([0,1],[0,1], color='blue', lw=2, linestyle='--')\n",
    "## Title and Label\n",
    "plt.xlabel('FPR')\n",
    "plt.ylabel('TPR')\n",
    "plt.title('Naive Bayes Test: ROC curve')\n",
    "plt.show()"
   ]
  },
  {
   "cell_type": "markdown",
   "metadata": {},
   "source": [
    "### Random Forest Classifier"
   ]
  },
  {
   "cell_type": "code",
   "execution_count": 30,
   "metadata": {},
   "outputs": [
    {
     "name": "stdout",
     "output_type": "stream",
     "text": [
      "{'max_depth': 12, 'n_estimators': 30}\n"
     ]
    }
   ],
   "source": [
    "param_grid = [{'n_estimators':[5,15,30],'max_depth':[4,12,24]}]\n",
    "grid = GridSearchCV(RandomForestClassifier(), param_grid=param_grid, cv=5)\n",
    "grid.fit(X_scaled, y)\n",
    "print(grid.best_params_)"
   ]
  },
  {
   "cell_type": "code",
   "execution_count": 34,
   "metadata": {},
   "outputs": [
    {
     "name": "stdout",
     "output_type": "stream",
     "text": [
      "{'max_depth': 15, 'n_estimators': 50}\n"
     ]
    }
   ],
   "source": [
    "# Run 2 #\n",
    "param_grid = [{'n_estimators':[30,40,50],'max_depth':[9,12,15]}]\n",
    "grid = GridSearchCV(RandomForestClassifier(), param_grid=param_grid, cv=5)\n",
    "grid.fit(X_scaled, y)\n",
    "print(grid.best_params_)"
   ]
  },
  {
   "cell_type": "code",
   "execution_count": 38,
   "metadata": {},
   "outputs": [
    {
     "name": "stdout",
     "output_type": "stream",
     "text": [
      "Training Accuracy:  0.81246044996836\n",
      "Cross Validation Score:  0.8097946481361035\n",
      "Test Accuracy:  0.8111932189049812\n"
     ]
    }
   ],
   "source": [
    "# Random Forest\n",
    "random_forest = RandomForestClassifier(n_estimators=50,max_depth=15).fit(X_scaled, y)\n",
    "acc_forest = random_forest.score(X_scaled, y)\n",
    "print('Training Accuracy: ',acc_forest)\n",
    "\n",
    "# Cross Validataion\n",
    "cvs_forest = np.mean(cross_val_score(random_forest, X_scaled, y, cv=3))\n",
    "print('Cross Validation Score: ',cvs_forest)\n",
    "\n",
    "# Test accuracy\n",
    "random_forest.fit(X_train, y_train)\n",
    "pred_y_test = random_forest.predict(X_test)\n",
    "test_acc_forest = accuracy_score(y_test,pred_y_test)\n",
    "print('Test Accuracy: ', test_acc_forest)"
   ]
  },
  {
   "cell_type": "code",
   "execution_count": 39,
   "metadata": {},
   "outputs": [
    {
     "data": {
      "image/png": "[encoded data removed]",
      "text/plain": [
       "<Figure size 432x288 with 1 Axes>"
      ]
     },
     "metadata": {
      "needs_background": "light"
     },
     "output_type": "display_data"
    }
   ],
   "source": [
    "fpr, tpr,_=roc_curve(y_test,random_forest.predict_proba(X_test)[:,1],pos_label=1,drop_intermediate=False)\n",
    "plt.figure()\n",
    "####### Adding the ROC\n",
    "plt.plot(fpr, tpr, color='red', lw=2, label='ROC curve')\n",
    "####### Random FPR and TPR\n",
    "plt.plot([0,1],[0,1], color='blue', lw=2, linestyle='--')\n",
    "## Title and Label\n",
    "plt.xlabel('FPR')\n",
    "plt.ylabel('TPR')\n",
    "plt.title('Random Forest Test: ROC curve')\n",
    "plt.show()"
   ]
  },
  {
   "cell_type": "markdown",
   "metadata": {},
   "source": [
    "### Extreme Gradient Boosting (XGB Classifier)"
   ]
  },
  {
   "cell_type": "code",
   "execution_count": 32,
   "metadata": {},
   "outputs": [
    {
     "name": "stdout",
     "output_type": "stream",
     "text": [
      "[06:12:03] WARNING: C:\\Jenkins\\workspace\\xgboost-win64_release_0.90\\src\\learner.cc:686: Tree method is automatically selected to be 'approx' for faster speed. To use old behavior (exact greedy algorithm on single machine), set tree_method to 'exact'.\n",
      "{'max_depth': 12, 'n_estimators': 30}\n"
     ]
    }
   ],
   "source": [
    "param_grid = [{'n_estimators':[5,15,30],'max_depth':[4,12,24]}]\n",
    "grid = GridSearchCV(XGBClassifier(), param_grid=param_grid, cv=5)\n",
    "grid.fit(X_scaled, y)\n",
    "print(grid.best_params_)"
   ]
  },
  {
   "cell_type": "code",
   "execution_count": 33,
   "metadata": {},
   "outputs": [
    {
     "name": "stdout",
     "output_type": "stream",
     "text": [
      "[10:36:49] WARNING: C:\\Jenkins\\workspace\\xgboost-win64_release_0.90\\src\\learner.cc:686: Tree method is automatically selected to be 'approx' for faster speed. To use old behavior (exact greedy algorithm on single machine), set tree_method to 'exact'.\n",
      "{'max_depth': 15, 'n_estimators': 50}\n"
     ]
    }
   ],
   "source": [
    "# Run 2 #\n",
    "param_grid = [{'n_estimators':[30,40,50],'max_depth':[9,12,15]}]\n",
    "grid = GridSearchCV(XGBClassifier(), param_grid=param_grid, cv=5)\n",
    "grid.fit(X_scaled, y)\n",
    "print(grid.best_params_)"
   ]
  },
  {
   "cell_type": "code",
   "execution_count": 35,
   "metadata": {},
   "outputs": [
    {
     "name": "stdout",
     "output_type": "stream",
     "text": [
      "[15:01:27] WARNING: C:\\Jenkins\\workspace\\xgboost-win64_release_0.90\\src\\learner.cc:686: Tree method is automatically selected to be 'approx' for faster speed. To use old behavior (exact greedy algorithm on single machine), set tree_method to 'exact'.\n",
      "Training Accuracy:  0.8169684535747629\n",
      "Cross Validation Score:  0.8106636494221049\n",
      "Test Accuracy:  0.8141707964671494\n"
     ]
    }
   ],
   "source": [
    "# XGB Classifier\n",
    "xgboost = XGBClassifier(n_estimators = 50,max_depth=15).fit(X_scaled, y)\n",
    "acc_xgboost = xgboost.score(X_scaled, y)\n",
    "print('Training Accuracy: ',acc_xgboost)\n",
    "\n",
    "# Cross Validataion\n",
    "cvs_xgboost = np.mean(cross_val_score(xgboost, X_scaled, y, cv=3))\n",
    "print('Cross Validation Score: ',cvs_xgboost)\n",
    "\n",
    "# Test accuracy\n",
    "xgboost.fit(X_train, y_train)\n",
    "pred_y_test = xgboost.predict(X_test)\n",
    "test_acc_xgboost = accuracy_score(y_test,pred_y_test)\n",
    "print('Test Accuracy: ', test_acc_xgboost)"
   ]
  },
  {
   "cell_type": "code",
   "execution_count": 37,
   "metadata": {},
   "outputs": [
    {
     "data": {
      "image/png": "[encoded data removed]",
      "text/plain": [
       "<Figure size 432x288 with 1 Axes>"
      ]
     },
     "metadata": {
      "needs_background": "light"
     },
     "output_type": "display_data"
    }
   ],
   "source": [
    "fpr, tpr,_=roc_curve(y_test,xgboost.predict_proba(X_test)[:,1],pos_label=1,drop_intermediate=False)\n",
    "plt.figure()\n",
    "####### Adding the ROC\n",
    "plt.plot(fpr, tpr, color='red', lw=2, label='ROC curve')\n",
    "####### Random FPR and TPR\n",
    "plt.plot([0,1],[0,1], color='blue', lw=2, linestyle='--')\n",
    "## Title and Label\n",
    "plt.xlabel('FPR')\n",
    "plt.ylabel('TPR')\n",
    "plt.title('XGB Test: ROC curve')\n",
    "plt.show()"
   ]
  },
  {
   "cell_type": "markdown",
   "metadata": {},
   "source": [
    "### Results"
   ]
  },
  {
   "cell_type": "code",
   "execution_count": 35,
   "metadata": {},
   "outputs": [
    {
     "data": {
      "text/html": [
       "<div>\n",
       "<style scoped>\n",
       "    .dataframe tbody tr th:only-of-type {\n",
       "        vertical-align: middle;\n",
       "    }\n",
       "\n",
       "    .dataframe tbody tr th {\n",
       "        vertical-align: top;\n",
       "    }\n",
       "\n",
       "    .dataframe thead th {\n",
       "        text-align: right;\n",
       "    }\n",
       "</style>\n",
       "<table border=\"1\" class=\"dataframe\">\n",
       "  <thead>\n",
       "    <tr style=\"text-align: right;\">\n",
       "      <th></th>\n",
       "      <th>Model</th>\n",
       "      <th>Train_Score</th>\n",
       "      <th>Test_Score</th>\n",
       "      <th>Cross_Validation</th>\n",
       "    </tr>\n",
       "  </thead>\n",
       "  <tbody>\n",
       "    <tr>\n",
       "      <th>0</th>\n",
       "      <td>Logistic Regression</td>\n",
       "      <td>0.807400</td>\n",
       "      <td>0.807400</td>\n",
       "      <td>0.807400</td>\n",
       "    </tr>\n",
       "    <tr>\n",
       "      <th>1</th>\n",
       "      <td>Naive Bayes</td>\n",
       "      <td>0.807400</td>\n",
       "      <td>0.807400</td>\n",
       "      <td>0.795512</td>\n",
       "    </tr>\n",
       "    <tr>\n",
       "      <th>2</th>\n",
       "      <td>Random Forest</td>\n",
       "      <td>0.812460</td>\n",
       "      <td>0.811193</td>\n",
       "      <td>0.809795</td>\n",
       "    </tr>\n",
       "    <tr>\n",
       "      <th>3</th>\n",
       "      <td>XGBoosting</td>\n",
       "      <td>0.816968</td>\n",
       "      <td>0.814171</td>\n",
       "      <td>0.810664</td>\n",
       "    </tr>\n",
       "  </tbody>\n",
       "</table>\n",
       "</div>"
      ],
      "text/plain": [
       "                 Model  Train_Score  Test_Score  Cross_Validation\n",
       "0  Logistic Regression     0.807400    0.807400          0.807400\n",
       "1          Naive Bayes     0.807400    0.807400          0.795512\n",
       "2        Random Forest     0.812460    0.811193          0.809795\n",
       "3           XGBoosting     0.816968    0.814171          0.810664"
      ]
     },
     "execution_count": 35,
     "metadata": {},
     "output_type": "execute_result"
    }
   ],
   "source": [
    "models = pd.DataFrame({\n",
    "    'Model': ['Logistic Regression', \n",
    "              'Naive Bayes',\n",
    "              'Random Forest', \n",
    "              'XGBoosting'],\n",
    "    'Train_Score': [acc_log, acc_gaussian, acc_forest, acc_xgboost],\n",
    "    'Test_Score': [test_acc_log, test_acc_gaussian,test_acc_forest, test_acc_xgboost],\n",
    "    'Cross_Validation':[cvs_log, cvs_gaussian,cvs_forest, cvs_xgboost]})\n",
    "models"
   ]
  },
  {
   "cell_type": "markdown",
   "metadata": {},
   "source": [
    "- Best model is XGB Classifier\n",
    "- Will use XGB Classifier with (n_estimators = 50, max_depth=15)"
   ]
  },
  {
   "cell_type": "markdown",
   "metadata": {},
   "source": [
    "## Use all data to train model"
   ]
  },
  {
   "cell_type": "code",
   "execution_count": 45,
   "metadata": {},
   "outputs": [
    {
     "name": "stdout",
     "output_type": "stream",
     "text": [
      "[16:34:54] WARNING: C:\\Jenkins\\workspace\\xgboost-win64_release_0.90\\src\\learner.cc:686: Tree method is automatically selected to be 'approx' for faster speed. To use old behavior (exact greedy algorithm on single machine), set tree_method to 'exact'.\n"
     ]
    }
   ],
   "source": [
    "model = XGBClassifier(n_estimators=50,max_depth=15).fit(X_scaled,y);"
   ]
  },
  {
   "cell_type": "code",
   "execution_count": 46,
   "metadata": {},
   "outputs": [
    {
     "data": {
      "text/html": [
       "<div>\n",
       "<style scoped>\n",
       "    .dataframe tbody tr th:only-of-type {\n",
       "        vertical-align: middle;\n",
       "    }\n",
       "\n",
       "    .dataframe tbody tr th {\n",
       "        vertical-align: top;\n",
       "    }\n",
       "\n",
       "    .dataframe thead th {\n",
       "        text-align: right;\n",
       "    }\n",
       "</style>\n",
       "<table border=\"1\" class=\"dataframe\">\n",
       "  <thead>\n",
       "    <tr style=\"text-align: right;\">\n",
       "      <th></th>\n",
       "      <th>Importance</th>\n",
       "    </tr>\n",
       "  </thead>\n",
       "  <tbody>\n",
       "    <tr>\n",
       "      <th>ad_id</th>\n",
       "      <td>9.400756</td>\n",
       "    </tr>\n",
       "    <tr>\n",
       "      <th>campaign_id</th>\n",
       "      <td>11.385811</td>\n",
       "    </tr>\n",
       "    <tr>\n",
       "      <th>advertiser_id</th>\n",
       "      <td>17.250858</td>\n",
       "    </tr>\n",
       "    <tr>\n",
       "      <th>document_id</th>\n",
       "      <td>2.963976</td>\n",
       "    </tr>\n",
       "    <tr>\n",
       "      <th>in_US</th>\n",
       "      <td>10.751355</td>\n",
       "    </tr>\n",
       "    <tr>\n",
       "      <th>platform_2</th>\n",
       "      <td>42.630836</td>\n",
       "    </tr>\n",
       "    <tr>\n",
       "      <th>platform_3</th>\n",
       "      <td>1.956905</td>\n",
       "    </tr>\n",
       "    <tr>\n",
       "      <th>Time_of_day_2</th>\n",
       "      <td>1.912577</td>\n",
       "    </tr>\n",
       "    <tr>\n",
       "      <th>Time_of_day_3</th>\n",
       "      <td>1.746930</td>\n",
       "    </tr>\n",
       "  </tbody>\n",
       "</table>\n",
       "</div>"
      ],
      "text/plain": [
       "               Importance\n",
       "ad_id            9.400756\n",
       "campaign_id     11.385811\n",
       "advertiser_id   17.250858\n",
       "document_id      2.963976\n",
       "in_US           10.751355\n",
       "platform_2      42.630836\n",
       "platform_3       1.956905\n",
       "Time_of_day_2    1.912577\n",
       "Time_of_day_3    1.746930"
      ]
     },
     "execution_count": 46,
     "metadata": {},
     "output_type": "execute_result"
    }
   ],
   "source": [
    "Importance = pd.DataFrame({'Importance':model.feature_importances_*100},\n",
    "                         index = X.columns)\n",
    "Importance"
   ]
  },
  {
   "cell_type": "code",
   "execution_count": 47,
   "metadata": {},
   "outputs": [
    {
     "data": {
      "image/png": "[encoded data removed]",
      "text/plain": [
       "<Figure size 432x288 with 1 Axes>"
      ]
     },
     "metadata": {
      "needs_background": "light"
     },
     "output_type": "display_data"
    }
   ],
   "source": [
    "Importance.sort_values(by = 'Importance',axis = 0,ascending = True)\\\n",
    "                      .plot(kind = 'barh',color='r',)\n",
    "plt.xlabel('Variable Importance')\n",
    "plt.gca().legend_ = None\n",
    "plt.grid()"
   ]
  },
  {
   "cell_type": "markdown",
   "metadata": {},
   "source": [
    "## Feature Selection\n",
    "- Remove bottom 4 features with low importance score and re-train model"
   ]
  },
  {
   "cell_type": "code",
   "execution_count": 48,
   "metadata": {},
   "outputs": [
    {
     "data": {
      "text/html": [
       "<div>\n",
       "<style scoped>\n",
       "    .dataframe tbody tr th:only-of-type {\n",
       "        vertical-align: middle;\n",
       "    }\n",
       "\n",
       "    .dataframe tbody tr th {\n",
       "        vertical-align: top;\n",
       "    }\n",
       "\n",
       "    .dataframe thead th {\n",
       "        text-align: right;\n",
       "    }\n",
       "</style>\n",
       "<table border=\"1\" class=\"dataframe\">\n",
       "  <thead>\n",
       "    <tr style=\"text-align: right;\">\n",
       "      <th></th>\n",
       "      <th>ad_id</th>\n",
       "      <th>campaign_id</th>\n",
       "      <th>advertiser_id</th>\n",
       "      <th>in_US</th>\n",
       "      <th>platform_2</th>\n",
       "    </tr>\n",
       "  </thead>\n",
       "  <tbody>\n",
       "    <tr>\n",
       "      <th>0</th>\n",
       "      <td>42337.0</td>\n",
       "      <td>5969.0</td>\n",
       "      <td>1499.0</td>\n",
       "      <td>1.0</td>\n",
       "      <td>0.0</td>\n",
       "    </tr>\n",
       "    <tr>\n",
       "      <th>1</th>\n",
       "      <td>139684.0</td>\n",
       "      <td>17527.0</td>\n",
       "      <td>2563.0</td>\n",
       "      <td>1.0</td>\n",
       "      <td>0.0</td>\n",
       "    </tr>\n",
       "    <tr>\n",
       "      <th>2</th>\n",
       "      <td>144739.0</td>\n",
       "      <td>18488.0</td>\n",
       "      <td>2909.0</td>\n",
       "      <td>1.0</td>\n",
       "      <td>0.0</td>\n",
       "    </tr>\n",
       "    <tr>\n",
       "      <th>3</th>\n",
       "      <td>156824.0</td>\n",
       "      <td>7283.0</td>\n",
       "      <td>1919.0</td>\n",
       "      <td>1.0</td>\n",
       "      <td>0.0</td>\n",
       "    </tr>\n",
       "    <tr>\n",
       "      <th>4</th>\n",
       "      <td>279295.0</td>\n",
       "      <td>27524.0</td>\n",
       "      <td>1820.0</td>\n",
       "      <td>1.0</td>\n",
       "      <td>0.0</td>\n",
       "    </tr>\n",
       "  </tbody>\n",
       "</table>\n",
       "</div>"
      ],
      "text/plain": [
       "      ad_id  campaign_id  advertiser_id  in_US  platform_2\n",
       "0   42337.0       5969.0         1499.0    1.0         0.0\n",
       "1  139684.0      17527.0         2563.0    1.0         0.0\n",
       "2  144739.0      18488.0         2909.0    1.0         0.0\n",
       "3  156824.0       7283.0         1919.0    1.0         0.0\n",
       "4  279295.0      27524.0         1820.0    1.0         0.0"
      ]
     },
     "execution_count": 48,
     "metadata": {},
     "output_type": "execute_result"
    }
   ],
   "source": [
    "X = X.drop(['Time_of_day_3','Time_of_day_2','platform_3','document_id'],axis=1)\n",
    "X.head()"
   ]
  },
  {
   "cell_type": "code",
   "execution_count": 49,
   "metadata": {},
   "outputs": [],
   "source": [
    "# Scale Features\n",
    "scaler = MinMaxScaler()\n",
    "X_scaled = scaler.fit_transform(X)"
   ]
  },
  {
   "cell_type": "code",
   "execution_count": 50,
   "metadata": {},
   "outputs": [
    {
     "name": "stdout",
     "output_type": "stream",
     "text": [
      "[16:54:47] WARNING: C:\\Jenkins\\workspace\\xgboost-win64_release_0.90\\src\\learner.cc:686: Tree method is automatically selected to be 'approx' for faster speed. To use old behavior (exact greedy algorithm on single machine), set tree_method to 'exact'.\n"
     ]
    }
   ],
   "source": [
    "model = XGBClassifier(n_estimators=50,max_depth=15).fit(X_scaled,y);"
   ]
  },
  {
   "cell_type": "code",
   "execution_count": 51,
   "metadata": {},
   "outputs": [
    {
     "name": "stdout",
     "output_type": "stream",
     "text": [
      "Training Score:  0.8113938491150793\n"
     ]
    }
   ],
   "source": [
    "print('Training Score: ',model.score(X_scaled,y))"
   ]
  },
  {
   "cell_type": "markdown",
   "metadata": {},
   "source": [
    "### Prepare Test Dataset for Prediction"
   ]
  },
  {
   "cell_type": "code",
   "execution_count": 52,
   "metadata": {},
   "outputs": [
    {
     "data": {
      "text/html": [
       "<div>\n",
       "<style scoped>\n",
       "    .dataframe tbody tr th:only-of-type {\n",
       "        vertical-align: middle;\n",
       "    }\n",
       "\n",
       "    .dataframe tbody tr th {\n",
       "        vertical-align: top;\n",
       "    }\n",
       "\n",
       "    .dataframe thead th {\n",
       "        text-align: right;\n",
       "    }\n",
       "</style>\n",
       "<table border=\"1\" class=\"dataframe\">\n",
       "  <thead>\n",
       "    <tr style=\"text-align: right;\">\n",
       "      <th></th>\n",
       "      <th>display_id</th>\n",
       "      <th>ad_id</th>\n",
       "    </tr>\n",
       "  </thead>\n",
       "  <tbody>\n",
       "    <tr>\n",
       "      <th>0</th>\n",
       "      <td>16874594</td>\n",
       "      <td>66758</td>\n",
       "    </tr>\n",
       "    <tr>\n",
       "      <th>1</th>\n",
       "      <td>16874594</td>\n",
       "      <td>150083</td>\n",
       "    </tr>\n",
       "    <tr>\n",
       "      <th>2</th>\n",
       "      <td>16874594</td>\n",
       "      <td>162754</td>\n",
       "    </tr>\n",
       "    <tr>\n",
       "      <th>3</th>\n",
       "      <td>16874594</td>\n",
       "      <td>170392</td>\n",
       "    </tr>\n",
       "    <tr>\n",
       "      <th>4</th>\n",
       "      <td>16874594</td>\n",
       "      <td>172888</td>\n",
       "    </tr>\n",
       "  </tbody>\n",
       "</table>\n",
       "</div>"
      ],
      "text/plain": [
       "   display_id   ad_id\n",
       "0    16874594   66758\n",
       "1    16874594  150083\n",
       "2    16874594  162754\n",
       "3    16874594  170392\n",
       "4    16874594  172888"
      ]
     },
     "execution_count": 52,
     "metadata": {},
     "output_type": "execute_result"
    }
   ],
   "source": [
    "test= pd.read_csv('clicks_test.csv')\n",
    "test.head()"
   ]
  },
  {
   "cell_type": "markdown",
   "metadata": {},
   "source": [
    "### Merge files into one dataframe"
   ]
  },
  {
   "cell_type": "code",
   "execution_count": 53,
   "metadata": {},
   "outputs": [
    {
     "name": "stderr",
     "output_type": "stream",
     "text": [
      "C:\\ProgramData\\Anaconda3\\lib\\site-packages\\IPython\\core\\interactiveshell.py:3020: DtypeWarning: Columns (4) have mixed types. Specify dtype option on import or set low_memory=False.\n",
      "  interactivity=interactivity, compiler=compiler, result=result)\n"
     ]
    },
    {
     "data": {
      "text/html": [
       "<div>\n",
       "<style scoped>\n",
       "    .dataframe tbody tr th:only-of-type {\n",
       "        vertical-align: middle;\n",
       "    }\n",
       "\n",
       "    .dataframe tbody tr th {\n",
       "        vertical-align: top;\n",
       "    }\n",
       "\n",
       "    .dataframe thead th {\n",
       "        text-align: right;\n",
       "    }\n",
       "</style>\n",
       "<table border=\"1\" class=\"dataframe\">\n",
       "  <thead>\n",
       "    <tr style=\"text-align: right;\">\n",
       "      <th></th>\n",
       "      <th>display_id</th>\n",
       "      <th>ad_id</th>\n",
       "      <th>campaign_id</th>\n",
       "      <th>advertiser_id</th>\n",
       "      <th>document_id</th>\n",
       "      <th>timestamp</th>\n",
       "      <th>platform</th>\n",
       "      <th>geo_location</th>\n",
       "    </tr>\n",
       "  </thead>\n",
       "  <tbody>\n",
       "    <tr>\n",
       "      <th>0</th>\n",
       "      <td>16874594</td>\n",
       "      <td>66758</td>\n",
       "      <td>8949</td>\n",
       "      <td>555</td>\n",
       "      <td>1792425</td>\n",
       "      <td>1026</td>\n",
       "      <td>3</td>\n",
       "      <td>US&gt;MI&gt;505</td>\n",
       "    </tr>\n",
       "    <tr>\n",
       "      <th>1</th>\n",
       "      <td>16874594</td>\n",
       "      <td>150083</td>\n",
       "      <td>19045</td>\n",
       "      <td>1913</td>\n",
       "      <td>1792425</td>\n",
       "      <td>1026</td>\n",
       "      <td>3</td>\n",
       "      <td>US&gt;MI&gt;505</td>\n",
       "    </tr>\n",
       "    <tr>\n",
       "      <th>2</th>\n",
       "      <td>16874594</td>\n",
       "      <td>162754</td>\n",
       "      <td>17770</td>\n",
       "      <td>2391</td>\n",
       "      <td>1792425</td>\n",
       "      <td>1026</td>\n",
       "      <td>3</td>\n",
       "      <td>US&gt;MI&gt;505</td>\n",
       "    </tr>\n",
       "    <tr>\n",
       "      <th>3</th>\n",
       "      <td>16874594</td>\n",
       "      <td>170392</td>\n",
       "      <td>20943</td>\n",
       "      <td>1731</td>\n",
       "      <td>1792425</td>\n",
       "      <td>1026</td>\n",
       "      <td>3</td>\n",
       "      <td>US&gt;MI&gt;505</td>\n",
       "    </tr>\n",
       "    <tr>\n",
       "      <th>4</th>\n",
       "      <td>16874594</td>\n",
       "      <td>172888</td>\n",
       "      <td>1384</td>\n",
       "      <td>16</td>\n",
       "      <td>1792425</td>\n",
       "      <td>1026</td>\n",
       "      <td>3</td>\n",
       "      <td>US&gt;MI&gt;505</td>\n",
       "    </tr>\n",
       "  </tbody>\n",
       "</table>\n",
       "</div>"
      ],
      "text/plain": [
       "   display_id   ad_id  campaign_id  advertiser_id  document_id  timestamp  \\\n",
       "0    16874594   66758         8949            555      1792425       1026   \n",
       "1    16874594  150083        19045           1913      1792425       1026   \n",
       "2    16874594  162754        17770           2391      1792425       1026   \n",
       "3    16874594  170392        20943           1731      1792425       1026   \n",
       "4    16874594  172888         1384             16      1792425       1026   \n",
       "\n",
       "  platform geo_location  \n",
       "0        3    US>MI>505  \n",
       "1        3    US>MI>505  \n",
       "2        3    US>MI>505  \n",
       "3        3    US>MI>505  \n",
       "4        3    US>MI>505  "
      ]
     },
     "execution_count": 53,
     "metadata": {},
     "output_type": "execute_result"
    }
   ],
   "source": [
    "# Merge train data + content on ad_id to get features about the ad\n",
    "data_test = pd.merge(test,content,how='left',on='ad_id')\n",
    "data_test.head()\n",
    "\n",
    "# Load Full events.csv\n",
    "events = pd.read_csv('events.csv')\n",
    "# Merge train data + events on ad_id to get features about the ad \n",
    "data_test = pd.merge(data_test,events,how='left',on='display_id')\n",
    "# Drop uuid (user id) as it is not a relevant feature\n",
    "data_test = data_test.drop('uuid',axis=1)\n",
    "data_test.head()"
   ]
  },
  {
   "cell_type": "markdown",
   "metadata": {},
   "source": [
    "### NaN Values"
   ]
  },
  {
   "cell_type": "code",
   "execution_count": 54,
   "metadata": {},
   "outputs": [
    {
     "data": {
      "text/plain": [
       "display_id         0\n",
       "ad_id              0\n",
       "campaign_id        0\n",
       "advertiser_id      0\n",
       "document_id        0\n",
       "timestamp          0\n",
       "platform           0\n",
       "geo_location     507\n",
       "dtype: int64"
      ]
     },
     "execution_count": 54,
     "metadata": {},
     "output_type": "execute_result"
    }
   ],
   "source": [
    "# Number of NaN values in data\n",
    "data_test.isna().sum()"
   ]
  },
  {
   "cell_type": "code",
   "execution_count": 55,
   "metadata": {},
   "outputs": [],
   "source": [
    "# Fill NaN values with string to represent Not in_US \n",
    "data_test.geo_location = data_test.geo_location.fillna('CA')"
   ]
  },
  {
   "cell_type": "markdown",
   "metadata": {},
   "source": [
    "### geo_location"
   ]
  },
  {
   "cell_type": "code",
   "execution_count": 56,
   "metadata": {},
   "outputs": [],
   "source": [
    "# Split into categorical feature of in_US\n",
    "# 0 for not in US and 1 for in US\n",
    "arr = []\n",
    "for i in data_test.geo_location:\n",
    "    if i.find(\"US\") == -1:\n",
    "        # Not in US\n",
    "        arr.append(0)\n",
    "    else:\n",
    "        # In US\n",
    "        arr.append(1)\n",
    "data_test['in_US'] = arr\n",
    "data_test = data_test.drop('geo_location',axis=1)"
   ]
  },
  {
   "cell_type": "code",
   "execution_count": 57,
   "metadata": {},
   "outputs": [
    {
     "data": {
      "text/plain": [
       "1    25561077\n",
       "0     6664085\n",
       "Name: in_US, dtype: int64"
      ]
     },
     "execution_count": 57,
     "metadata": {},
     "output_type": "execute_result"
    }
   ],
   "source": [
    "data_test['in_US'].value_counts()"
   ]
  },
  {
   "cell_type": "markdown",
   "metadata": {},
   "source": [
    "### timestamp"
   ]
  },
  {
   "cell_type": "code",
   "execution_count": 58,
   "metadata": {},
   "outputs": [],
   "source": [
    "# Convert time into year month date time format\n",
    "data_test.timestamp = data_test.timestamp+1465876799998\n",
    "data_test.timestamp = pd.to_datetime(data_test.timestamp,unit='ms')"
   ]
  },
  {
   "cell_type": "code",
   "execution_count": 59,
   "metadata": {},
   "outputs": [],
   "source": [
    "# Convert Timestamp into categorical feature of Time_of_day\n",
    "# 1 = morning, 2 = Mid-day, 3 = Evening\n",
    "arr = []\n",
    "for i in data_test.timestamp:\n",
    "    hour = i.hour\n",
    "    if (4<hour<=12):\n",
    "        # Morning\n",
    "        arr.append(1)\n",
    "    elif (12<hour<=20):\n",
    "        # Mid-day\n",
    "        arr.append(2)\n",
    "    else:\n",
    "        # Evening\n",
    "        arr.append(3)\n",
    "data_test['Time_of_day'] = arr\n",
    "data_test = data_test.drop('timestamp',axis=1)"
   ]
  },
  {
   "cell_type": "code",
   "execution_count": 60,
   "metadata": {},
   "outputs": [
    {
     "data": {
      "text/plain": [
       "2    13699880\n",
       "3    10926801\n",
       "1     7598481\n",
       "Name: Time_of_day, dtype: int64"
      ]
     },
     "execution_count": 60,
     "metadata": {},
     "output_type": "execute_result"
    }
   ],
   "source": [
    "data_test['Time_of_day'].value_counts()"
   ]
  },
  {
   "cell_type": "markdown",
   "metadata": {},
   "source": [
    "### platform"
   ]
  },
  {
   "cell_type": "code",
   "execution_count": 61,
   "metadata": {},
   "outputs": [
    {
     "data": {
      "text/plain": [
       "1    14078309\n",
       "2    13628287\n",
       "3     4518566\n",
       "Name: platform, dtype: int64"
      ]
     },
     "execution_count": 61,
     "metadata": {},
     "output_type": "execute_result"
    }
   ],
   "source": [
    "# Platform already in integer values\n",
    "data_test.platform.value_counts()"
   ]
  },
  {
   "cell_type": "code",
   "execution_count": 62,
   "metadata": {},
   "outputs": [
    {
     "data": {
      "text/html": [
       "<div>\n",
       "<style scoped>\n",
       "    .dataframe tbody tr th:only-of-type {\n",
       "        vertical-align: middle;\n",
       "    }\n",
       "\n",
       "    .dataframe tbody tr th {\n",
       "        vertical-align: top;\n",
       "    }\n",
       "\n",
       "    .dataframe thead th {\n",
       "        text-align: right;\n",
       "    }\n",
       "</style>\n",
       "<table border=\"1\" class=\"dataframe\">\n",
       "  <thead>\n",
       "    <tr style=\"text-align: right;\">\n",
       "      <th></th>\n",
       "      <th>display_id</th>\n",
       "      <th>ad_id</th>\n",
       "      <th>campaign_id</th>\n",
       "      <th>advertiser_id</th>\n",
       "      <th>document_id</th>\n",
       "      <th>platform</th>\n",
       "      <th>in_US</th>\n",
       "      <th>Time_of_day</th>\n",
       "    </tr>\n",
       "  </thead>\n",
       "  <tbody>\n",
       "    <tr>\n",
       "      <th>0</th>\n",
       "      <td>16874594</td>\n",
       "      <td>66758</td>\n",
       "      <td>8949</td>\n",
       "      <td>555</td>\n",
       "      <td>1792425</td>\n",
       "      <td>3</td>\n",
       "      <td>1</td>\n",
       "      <td>3</td>\n",
       "    </tr>\n",
       "    <tr>\n",
       "      <th>1</th>\n",
       "      <td>16874594</td>\n",
       "      <td>150083</td>\n",
       "      <td>19045</td>\n",
       "      <td>1913</td>\n",
       "      <td>1792425</td>\n",
       "      <td>3</td>\n",
       "      <td>1</td>\n",
       "      <td>3</td>\n",
       "    </tr>\n",
       "    <tr>\n",
       "      <th>2</th>\n",
       "      <td>16874594</td>\n",
       "      <td>162754</td>\n",
       "      <td>17770</td>\n",
       "      <td>2391</td>\n",
       "      <td>1792425</td>\n",
       "      <td>3</td>\n",
       "      <td>1</td>\n",
       "      <td>3</td>\n",
       "    </tr>\n",
       "    <tr>\n",
       "      <th>3</th>\n",
       "      <td>16874594</td>\n",
       "      <td>170392</td>\n",
       "      <td>20943</td>\n",
       "      <td>1731</td>\n",
       "      <td>1792425</td>\n",
       "      <td>3</td>\n",
       "      <td>1</td>\n",
       "      <td>3</td>\n",
       "    </tr>\n",
       "    <tr>\n",
       "      <th>4</th>\n",
       "      <td>16874594</td>\n",
       "      <td>172888</td>\n",
       "      <td>1384</td>\n",
       "      <td>16</td>\n",
       "      <td>1792425</td>\n",
       "      <td>3</td>\n",
       "      <td>1</td>\n",
       "      <td>3</td>\n",
       "    </tr>\n",
       "  </tbody>\n",
       "</table>\n",
       "</div>"
      ],
      "text/plain": [
       "   display_id   ad_id  campaign_id  advertiser_id  document_id platform  \\\n",
       "0    16874594   66758         8949            555      1792425        3   \n",
       "1    16874594  150083        19045           1913      1792425        3   \n",
       "2    16874594  162754        17770           2391      1792425        3   \n",
       "3    16874594  170392        20943           1731      1792425        3   \n",
       "4    16874594  172888         1384             16      1792425        3   \n",
       "\n",
       "   in_US  Time_of_day  \n",
       "0      1            3  \n",
       "1      1            3  \n",
       "2      1            3  \n",
       "3      1            3  \n",
       "4      1            3  "
      ]
     },
     "execution_count": 62,
     "metadata": {},
     "output_type": "execute_result"
    }
   ],
   "source": [
    "data_test.head()"
   ]
  },
  {
   "cell_type": "markdown",
   "metadata": {},
   "source": [
    "### Dummy variables"
   ]
  },
  {
   "cell_type": "code",
   "execution_count": 63,
   "metadata": {},
   "outputs": [
    {
     "data": {
      "text/html": [
       "<div>\n",
       "<style scoped>\n",
       "    .dataframe tbody tr th:only-of-type {\n",
       "        vertical-align: middle;\n",
       "    }\n",
       "\n",
       "    .dataframe tbody tr th {\n",
       "        vertical-align: top;\n",
       "    }\n",
       "\n",
       "    .dataframe thead th {\n",
       "        text-align: right;\n",
       "    }\n",
       "</style>\n",
       "<table border=\"1\" class=\"dataframe\">\n",
       "  <thead>\n",
       "    <tr style=\"text-align: right;\">\n",
       "      <th></th>\n",
       "      <th>ad_id</th>\n",
       "      <th>campaign_id</th>\n",
       "      <th>advertiser_id</th>\n",
       "      <th>document_id</th>\n",
       "      <th>in_US</th>\n",
       "      <th>platform_2</th>\n",
       "      <th>platform_3</th>\n",
       "      <th>Time_of_day_2</th>\n",
       "      <th>Time_of_day_3</th>\n",
       "    </tr>\n",
       "  </thead>\n",
       "  <tbody>\n",
       "    <tr>\n",
       "      <th>0</th>\n",
       "      <td>66758</td>\n",
       "      <td>8949</td>\n",
       "      <td>555</td>\n",
       "      <td>1792425</td>\n",
       "      <td>1</td>\n",
       "      <td>0</td>\n",
       "      <td>1</td>\n",
       "      <td>0</td>\n",
       "      <td>1</td>\n",
       "    </tr>\n",
       "    <tr>\n",
       "      <th>1</th>\n",
       "      <td>150083</td>\n",
       "      <td>19045</td>\n",
       "      <td>1913</td>\n",
       "      <td>1792425</td>\n",
       "      <td>1</td>\n",
       "      <td>0</td>\n",
       "      <td>1</td>\n",
       "      <td>0</td>\n",
       "      <td>1</td>\n",
       "    </tr>\n",
       "    <tr>\n",
       "      <th>2</th>\n",
       "      <td>162754</td>\n",
       "      <td>17770</td>\n",
       "      <td>2391</td>\n",
       "      <td>1792425</td>\n",
       "      <td>1</td>\n",
       "      <td>0</td>\n",
       "      <td>1</td>\n",
       "      <td>0</td>\n",
       "      <td>1</td>\n",
       "    </tr>\n",
       "    <tr>\n",
       "      <th>3</th>\n",
       "      <td>170392</td>\n",
       "      <td>20943</td>\n",
       "      <td>1731</td>\n",
       "      <td>1792425</td>\n",
       "      <td>1</td>\n",
       "      <td>0</td>\n",
       "      <td>1</td>\n",
       "      <td>0</td>\n",
       "      <td>1</td>\n",
       "    </tr>\n",
       "    <tr>\n",
       "      <th>4</th>\n",
       "      <td>172888</td>\n",
       "      <td>1384</td>\n",
       "      <td>16</td>\n",
       "      <td>1792425</td>\n",
       "      <td>1</td>\n",
       "      <td>0</td>\n",
       "      <td>1</td>\n",
       "      <td>0</td>\n",
       "      <td>1</td>\n",
       "    </tr>\n",
       "  </tbody>\n",
       "</table>\n",
       "</div>"
      ],
      "text/plain": [
       "    ad_id  campaign_id  advertiser_id  document_id  in_US  platform_2  \\\n",
       "0   66758         8949            555      1792425      1           0   \n",
       "1  150083        19045           1913      1792425      1           0   \n",
       "2  162754        17770           2391      1792425      1           0   \n",
       "3  170392        20943           1731      1792425      1           0   \n",
       "4  172888         1384             16      1792425      1           0   \n",
       "\n",
       "   platform_3  Time_of_day_2  Time_of_day_3  \n",
       "0           1              0              1  \n",
       "1           1              0              1  \n",
       "2           1              0              1  \n",
       "3           1              0              1  \n",
       "4           1              0              1  "
      ]
     },
     "execution_count": 63,
     "metadata": {},
     "output_type": "execute_result"
    }
   ],
   "source": [
    "# Split into predictors variable\n",
    "X_submission = data_test.drop(['display_id'],axis=1)\n",
    "# Get dummy variables for categorical features of platform and time_of_day\n",
    "X_submission = pd.get_dummies(X_submission,columns=['platform','Time_of_day'],drop_first=True)\n",
    "X_submission.head()"
   ]
  },
  {
   "cell_type": "code",
   "execution_count": 64,
   "metadata": {},
   "outputs": [
    {
     "data": {
      "text/html": [
       "<div>\n",
       "<style scoped>\n",
       "    .dataframe tbody tr th:only-of-type {\n",
       "        vertical-align: middle;\n",
       "    }\n",
       "\n",
       "    .dataframe tbody tr th {\n",
       "        vertical-align: top;\n",
       "    }\n",
       "\n",
       "    .dataframe thead th {\n",
       "        text-align: right;\n",
       "    }\n",
       "</style>\n",
       "<table border=\"1\" class=\"dataframe\">\n",
       "  <thead>\n",
       "    <tr style=\"text-align: right;\">\n",
       "      <th></th>\n",
       "      <th>ad_id</th>\n",
       "      <th>campaign_id</th>\n",
       "      <th>advertiser_id</th>\n",
       "      <th>in_US</th>\n",
       "      <th>platform_2</th>\n",
       "    </tr>\n",
       "  </thead>\n",
       "  <tbody>\n",
       "    <tr>\n",
       "      <th>0</th>\n",
       "      <td>66758</td>\n",
       "      <td>8949</td>\n",
       "      <td>555</td>\n",
       "      <td>1</td>\n",
       "      <td>0</td>\n",
       "    </tr>\n",
       "    <tr>\n",
       "      <th>1</th>\n",
       "      <td>150083</td>\n",
       "      <td>19045</td>\n",
       "      <td>1913</td>\n",
       "      <td>1</td>\n",
       "      <td>0</td>\n",
       "    </tr>\n",
       "    <tr>\n",
       "      <th>2</th>\n",
       "      <td>162754</td>\n",
       "      <td>17770</td>\n",
       "      <td>2391</td>\n",
       "      <td>1</td>\n",
       "      <td>0</td>\n",
       "    </tr>\n",
       "    <tr>\n",
       "      <th>3</th>\n",
       "      <td>170392</td>\n",
       "      <td>20943</td>\n",
       "      <td>1731</td>\n",
       "      <td>1</td>\n",
       "      <td>0</td>\n",
       "    </tr>\n",
       "    <tr>\n",
       "      <th>4</th>\n",
       "      <td>172888</td>\n",
       "      <td>1384</td>\n",
       "      <td>16</td>\n",
       "      <td>1</td>\n",
       "      <td>0</td>\n",
       "    </tr>\n",
       "  </tbody>\n",
       "</table>\n",
       "</div>"
      ],
      "text/plain": [
       "    ad_id  campaign_id  advertiser_id  in_US  platform_2\n",
       "0   66758         8949            555      1           0\n",
       "1  150083        19045           1913      1           0\n",
       "2  162754        17770           2391      1           0\n",
       "3  170392        20943           1731      1           0\n",
       "4  172888         1384             16      1           0"
      ]
     },
     "execution_count": 64,
     "metadata": {},
     "output_type": "execute_result"
    }
   ],
   "source": [
    "# Drop Features that are not important\n",
    "X_submission = X_submission.drop(['Time_of_day_3','Time_of_day_2','platform_3','document_id'],axis=1)\n",
    "X_submission.head()"
   ]
  },
  {
   "cell_type": "markdown",
   "metadata": {},
   "source": [
    "### Feature Scaling"
   ]
  },
  {
   "cell_type": "code",
   "execution_count": 65,
   "metadata": {},
   "outputs": [],
   "source": [
    "# Scaled X_submission\n",
    "Xsubmission_scaled = scaler.transform(X_submission)"
   ]
  },
  {
   "cell_type": "code",
   "execution_count": 66,
   "metadata": {},
   "outputs": [],
   "source": [
    "# Predict Probability of Ad Clicks\n",
    "pred=list(model.predict_proba(Xsubmission_scaled).astype(float)[:,1])"
   ]
  },
  {
   "cell_type": "code",
   "execution_count": 67,
   "metadata": {},
   "outputs": [
    {
     "data": {
      "text/html": [
       "<div>\n",
       "<style scoped>\n",
       "    .dataframe tbody tr th:only-of-type {\n",
       "        vertical-align: middle;\n",
       "    }\n",
       "\n",
       "    .dataframe tbody tr th {\n",
       "        vertical-align: top;\n",
       "    }\n",
       "\n",
       "    .dataframe thead th {\n",
       "        text-align: right;\n",
       "    }\n",
       "</style>\n",
       "<table border=\"1\" class=\"dataframe\">\n",
       "  <thead>\n",
       "    <tr style=\"text-align: right;\">\n",
       "      <th></th>\n",
       "      <th>0</th>\n",
       "      <th>1</th>\n",
       "      <th>2</th>\n",
       "    </tr>\n",
       "  </thead>\n",
       "  <tbody>\n",
       "    <tr>\n",
       "      <th>0</th>\n",
       "      <td>16874594</td>\n",
       "      <td>66758</td>\n",
       "      <td>0.105589</td>\n",
       "    </tr>\n",
       "    <tr>\n",
       "      <th>1</th>\n",
       "      <td>16874594</td>\n",
       "      <td>150083</td>\n",
       "      <td>0.061631</td>\n",
       "    </tr>\n",
       "    <tr>\n",
       "      <th>2</th>\n",
       "      <td>16874594</td>\n",
       "      <td>162754</td>\n",
       "      <td>0.235533</td>\n",
       "    </tr>\n",
       "    <tr>\n",
       "      <th>3</th>\n",
       "      <td>16874594</td>\n",
       "      <td>170392</td>\n",
       "      <td>0.390913</td>\n",
       "    </tr>\n",
       "    <tr>\n",
       "      <th>4</th>\n",
       "      <td>16874594</td>\n",
       "      <td>172888</td>\n",
       "      <td>0.312130</td>\n",
       "    </tr>\n",
       "  </tbody>\n",
       "</table>\n",
       "</div>"
      ],
      "text/plain": [
       "          0       1         2\n",
       "0  16874594   66758  0.105589\n",
       "1  16874594  150083  0.061631\n",
       "2  16874594  162754  0.235533\n",
       "3  16874594  170392  0.390913\n",
       "4  16874594  172888  0.312130"
      ]
     },
     "execution_count": 67,
     "metadata": {},
     "output_type": "execute_result"
    }
   ],
   "source": [
    "# Combine Test data with predicted probability\n",
    "results=pd.concat((test,pd.DataFrame(pred)) ,axis=1,ignore_index=True)\n",
    "results.head()"
   ]
  },
  {
   "cell_type": "code",
   "execution_count": 68,
   "metadata": {},
   "outputs": [
    {
     "data": {
      "text/html": [
       "<div>\n",
       "<style scoped>\n",
       "    .dataframe tbody tr th:only-of-type {\n",
       "        vertical-align: middle;\n",
       "    }\n",
       "\n",
       "    .dataframe tbody tr th {\n",
       "        vertical-align: top;\n",
       "    }\n",
       "\n",
       "    .dataframe thead th {\n",
       "        text-align: right;\n",
       "    }\n",
       "</style>\n",
       "<table border=\"1\" class=\"dataframe\">\n",
       "  <thead>\n",
       "    <tr style=\"text-align: right;\">\n",
       "      <th></th>\n",
       "      <th>display_id</th>\n",
       "      <th>ad_id</th>\n",
       "      <th>clicked</th>\n",
       "    </tr>\n",
       "  </thead>\n",
       "  <tbody>\n",
       "    <tr>\n",
       "      <th>3</th>\n",
       "      <td>16874594</td>\n",
       "      <td>170392</td>\n",
       "      <td>0.390913</td>\n",
       "    </tr>\n",
       "    <tr>\n",
       "      <th>4</th>\n",
       "      <td>16874594</td>\n",
       "      <td>172888</td>\n",
       "      <td>0.312130</td>\n",
       "    </tr>\n",
       "    <tr>\n",
       "      <th>2</th>\n",
       "      <td>16874594</td>\n",
       "      <td>162754</td>\n",
       "      <td>0.235533</td>\n",
       "    </tr>\n",
       "    <tr>\n",
       "      <th>0</th>\n",
       "      <td>16874594</td>\n",
       "      <td>66758</td>\n",
       "      <td>0.105589</td>\n",
       "    </tr>\n",
       "    <tr>\n",
       "      <th>1</th>\n",
       "      <td>16874594</td>\n",
       "      <td>150083</td>\n",
       "      <td>0.061631</td>\n",
       "    </tr>\n",
       "  </tbody>\n",
       "</table>\n",
       "</div>"
      ],
      "text/plain": [
       "   display_id   ad_id   clicked\n",
       "3    16874594  170392  0.390913\n",
       "4    16874594  172888  0.312130\n",
       "2    16874594  162754  0.235533\n",
       "0    16874594   66758  0.105589\n",
       "1    16874594  150083  0.061631"
      ]
     },
     "execution_count": 68,
     "metadata": {},
     "output_type": "execute_result"
    }
   ],
   "source": [
    "# Rename the columns\n",
    "results.columns = ['display_id','ad_id','clicked']\n",
    "# Sort by Display ID and Highest Probability Clicked Ad\n",
    "results = results.sort_values(by=['display_id','clicked'], ascending=[True, False])\n",
    "results.head()"
   ]
  },
  {
   "cell_type": "code",
   "execution_count": 69,
   "metadata": {},
   "outputs": [
    {
     "data": {
      "text/plain": [
       "display_id\n",
       "16874594             170392 172888 162754 66758 150083 180797\n",
       "16874595                                    8846 143982 30609\n",
       "16874596    132820 11430 289122 289915 153260 57197 173005...\n",
       "16874597    305790 308836 180965 155945 143981 285834 1820...\n",
       "16874598                           145937 335632 67292 250082\n",
       "Name: ad_id, dtype: object"
      ]
     },
     "execution_count": 69,
     "metadata": {},
     "output_type": "execute_result"
    }
   ],
   "source": [
    "# Group by Display_id\n",
    "results = results.reset_index(drop=True)\n",
    "results=results[['display_id','ad_id']].groupby('display_id')['ad_id'].agg(lambda col: ' '.join(map(str,col)))\n",
    "results.columns=[['display_id','ad_id']]\n",
    "results.head()"
   ]
  },
  {
   "cell_type": "code",
   "execution_count": 70,
   "metadata": {},
   "outputs": [
    {
     "data": {
      "text/html": [
       "<div>\n",
       "<style scoped>\n",
       "    .dataframe tbody tr th:only-of-type {\n",
       "        vertical-align: middle;\n",
       "    }\n",
       "\n",
       "    .dataframe tbody tr th {\n",
       "        vertical-align: top;\n",
       "    }\n",
       "\n",
       "    .dataframe thead th {\n",
       "        text-align: right;\n",
       "    }\n",
       "</style>\n",
       "<table border=\"1\" class=\"dataframe\">\n",
       "  <thead>\n",
       "    <tr style=\"text-align: right;\">\n",
       "      <th></th>\n",
       "      <th>display_id</th>\n",
       "      <th>ad_id</th>\n",
       "    </tr>\n",
       "  </thead>\n",
       "  <tbody>\n",
       "    <tr>\n",
       "      <th>0</th>\n",
       "      <td>16874594</td>\n",
       "      <td>170392 172888 162754 66758 150083 180797</td>\n",
       "    </tr>\n",
       "    <tr>\n",
       "      <th>1</th>\n",
       "      <td>16874595</td>\n",
       "      <td>8846 143982 30609</td>\n",
       "    </tr>\n",
       "    <tr>\n",
       "      <th>2</th>\n",
       "      <td>16874596</td>\n",
       "      <td>132820 11430 289122 289915 153260 57197 173005...</td>\n",
       "    </tr>\n",
       "    <tr>\n",
       "      <th>3</th>\n",
       "      <td>16874597</td>\n",
       "      <td>305790 308836 180965 155945 143981 285834 1820...</td>\n",
       "    </tr>\n",
       "    <tr>\n",
       "      <th>4</th>\n",
       "      <td>16874598</td>\n",
       "      <td>145937 335632 67292 250082</td>\n",
       "    </tr>\n",
       "  </tbody>\n",
       "</table>\n",
       "</div>"
      ],
      "text/plain": [
       "   display_id                                              ad_id\n",
       "0    16874594           170392 172888 162754 66758 150083 180797\n",
       "1    16874595                                  8846 143982 30609\n",
       "2    16874596  132820 11430 289122 289915 153260 57197 173005...\n",
       "3    16874597  305790 308836 180965 155945 143981 285834 1820...\n",
       "4    16874598                         145937 335632 67292 250082"
      ]
     },
     "execution_count": 70,
     "metadata": {},
     "output_type": "execute_result"
    }
   ],
   "source": [
    "# Put it back into dataframe to export to csv\n",
    "result_df = pd.DataFrame(results).reset_index()\n",
    "result_df.head()"
   ]
  },
  {
   "cell_type": "code",
   "execution_count": 71,
   "metadata": {},
   "outputs": [],
   "source": [
    "# Export to csv for submission to Kaggle\n",
    "result_df.to_csv('submission_2.0.csv',index=False)"
   ]
  }
 ],
 "metadata": {
  "kernelspec": {
   "display_name": "Python 3",
   "language": "python",
   "name": "python3"
  },
  "language_info": {
   "codemirror_mode": {
    "name": "ipython",
    "version": 3
   },
   "file_extension": ".py",
   "mimetype": "text/x-python",
   "name": "python",
   "nbconvert_exporter": "python",
   "pygments_lexer": "ipython3",
   "version": "3.7.1"
  }
 },
 "nbformat": 4,
 "nbformat_minor": 2
}
